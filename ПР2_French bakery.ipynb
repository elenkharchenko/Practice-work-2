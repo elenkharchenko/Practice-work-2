{
  "cells": [
    {
      "cell_type": "markdown",
      "metadata": {
        "id": "fN6L72atpi3d"
      },
      "source": [
        "# **АНАЛИЗ ПРОДАЖ ПЕКАРНИ**\n",
        "\n",
        "Датасет содержит набор данных о продажах французской пекарни с 01.01.2021 по 30.09.2022\n",
        "\n",
        "*Цель работы:* определить, существует ли в продажах сезонность по году, недели и времени суток"
      ]
    },
    {
      "cell_type": "markdown",
      "metadata": {
        "id": "i20AlIIG_CdO"
      },
      "source": [
        "**Часть 1.** Импорт данных и всех необходимых библиотек. Очистка данных и подготовка к работе"
      ]
    },
    {
      "cell_type": "code",
      "execution_count": 951,
      "metadata": {
        "id": "oqcfwqQjoO17"
      },
      "outputs": [],
      "source": [
        "import pandas as pd\n",
        "import numpy as np\n",
        "import matplotlib.pyplot as plt\n",
        "import datetime as dt\n",
        "import seaborn as sns\n",
        "import scipy.stats\n",
        "import statsmodels.api as sm"
      ]
    },
    {
      "cell_type": "code",
      "execution_count": 952,
      "metadata": {
        "colab": {
          "base_uri": "https://localhost:8080/",
          "height": 411
        },
        "id": "HQbq4uXwo65R",
        "outputId": "e451cfd0-1ee5-4d50-da7e-52c58be11e1a"
      },
      "outputs": [
        {
          "output_type": "execute_result",
          "data": {
            "text/plain": [
              "        Unnamed: 0        date   time  ticket_number               article  \\\n",
              "0                0  2021-01-02  08:38       150040.0              BAGUETTE   \n",
              "1                1  2021-01-02  08:38       150040.0      PAIN AU CHOCOLAT   \n",
              "2                4  2021-01-02  09:14       150041.0      PAIN AU CHOCOLAT   \n",
              "3                5  2021-01-02  09:14       150041.0                  PAIN   \n",
              "4                8  2021-01-02  09:25       150042.0  TRADITIONAL BAGUETTE   \n",
              "...            ...         ...    ...            ...                   ...   \n",
              "234000      511387  2022-09-30  18:52       288911.0                 COUPE   \n",
              "234001      511388  2022-09-30  18:52       288911.0            BOULE 200G   \n",
              "234002      511389  2022-09-30  18:52       288911.0                 COUPE   \n",
              "234003      511392  2022-09-30  18:55       288912.0  TRADITIONAL BAGUETTE   \n",
              "234004      511395  2022-09-30  18:56       288913.0  TRADITIONAL BAGUETTE   \n",
              "\n",
              "        Quantity unit_price  \n",
              "0            1.0     0,90 €  \n",
              "1            3.0     1,20 €  \n",
              "2            2.0     1,20 €  \n",
              "3            1.0     1,15 €  \n",
              "4            5.0     1,20 €  \n",
              "...          ...        ...  \n",
              "234000       1.0     0,15 €  \n",
              "234001       1.0     1,20 €  \n",
              "234002       2.0     0,15 €  \n",
              "234003       1.0     1,30 €  \n",
              "234004       1.0     1,30 €  \n",
              "\n",
              "[234005 rows x 7 columns]"
            ],
            "text/html": [
              "\n",
              "  <div id=\"df-2689e7de-7244-4546-9048-b0996278ce14\">\n",
              "    <div class=\"colab-df-container\">\n",
              "      <div>\n",
              "<style scoped>\n",
              "    .dataframe tbody tr th:only-of-type {\n",
              "        vertical-align: middle;\n",
              "    }\n",
              "\n",
              "    .dataframe tbody tr th {\n",
              "        vertical-align: top;\n",
              "    }\n",
              "\n",
              "    .dataframe thead th {\n",
              "        text-align: right;\n",
              "    }\n",
              "</style>\n",
              "<table border=\"1\" class=\"dataframe\">\n",
              "  <thead>\n",
              "    <tr style=\"text-align: right;\">\n",
              "      <th></th>\n",
              "      <th>Unnamed: 0</th>\n",
              "      <th>date</th>\n",
              "      <th>time</th>\n",
              "      <th>ticket_number</th>\n",
              "      <th>article</th>\n",
              "      <th>Quantity</th>\n",
              "      <th>unit_price</th>\n",
              "    </tr>\n",
              "  </thead>\n",
              "  <tbody>\n",
              "    <tr>\n",
              "      <th>0</th>\n",
              "      <td>0</td>\n",
              "      <td>2021-01-02</td>\n",
              "      <td>08:38</td>\n",
              "      <td>150040.0</td>\n",
              "      <td>BAGUETTE</td>\n",
              "      <td>1.0</td>\n",
              "      <td>0,90 €</td>\n",
              "    </tr>\n",
              "    <tr>\n",
              "      <th>1</th>\n",
              "      <td>1</td>\n",
              "      <td>2021-01-02</td>\n",
              "      <td>08:38</td>\n",
              "      <td>150040.0</td>\n",
              "      <td>PAIN AU CHOCOLAT</td>\n",
              "      <td>3.0</td>\n",
              "      <td>1,20 €</td>\n",
              "    </tr>\n",
              "    <tr>\n",
              "      <th>2</th>\n",
              "      <td>4</td>\n",
              "      <td>2021-01-02</td>\n",
              "      <td>09:14</td>\n",
              "      <td>150041.0</td>\n",
              "      <td>PAIN AU CHOCOLAT</td>\n",
              "      <td>2.0</td>\n",
              "      <td>1,20 €</td>\n",
              "    </tr>\n",
              "    <tr>\n",
              "      <th>3</th>\n",
              "      <td>5</td>\n",
              "      <td>2021-01-02</td>\n",
              "      <td>09:14</td>\n",
              "      <td>150041.0</td>\n",
              "      <td>PAIN</td>\n",
              "      <td>1.0</td>\n",
              "      <td>1,15 €</td>\n",
              "    </tr>\n",
              "    <tr>\n",
              "      <th>4</th>\n",
              "      <td>8</td>\n",
              "      <td>2021-01-02</td>\n",
              "      <td>09:25</td>\n",
              "      <td>150042.0</td>\n",
              "      <td>TRADITIONAL BAGUETTE</td>\n",
              "      <td>5.0</td>\n",
              "      <td>1,20 €</td>\n",
              "    </tr>\n",
              "    <tr>\n",
              "      <th>...</th>\n",
              "      <td>...</td>\n",
              "      <td>...</td>\n",
              "      <td>...</td>\n",
              "      <td>...</td>\n",
              "      <td>...</td>\n",
              "      <td>...</td>\n",
              "      <td>...</td>\n",
              "    </tr>\n",
              "    <tr>\n",
              "      <th>234000</th>\n",
              "      <td>511387</td>\n",
              "      <td>2022-09-30</td>\n",
              "      <td>18:52</td>\n",
              "      <td>288911.0</td>\n",
              "      <td>COUPE</td>\n",
              "      <td>1.0</td>\n",
              "      <td>0,15 €</td>\n",
              "    </tr>\n",
              "    <tr>\n",
              "      <th>234001</th>\n",
              "      <td>511388</td>\n",
              "      <td>2022-09-30</td>\n",
              "      <td>18:52</td>\n",
              "      <td>288911.0</td>\n",
              "      <td>BOULE 200G</td>\n",
              "      <td>1.0</td>\n",
              "      <td>1,20 €</td>\n",
              "    </tr>\n",
              "    <tr>\n",
              "      <th>234002</th>\n",
              "      <td>511389</td>\n",
              "      <td>2022-09-30</td>\n",
              "      <td>18:52</td>\n",
              "      <td>288911.0</td>\n",
              "      <td>COUPE</td>\n",
              "      <td>2.0</td>\n",
              "      <td>0,15 €</td>\n",
              "    </tr>\n",
              "    <tr>\n",
              "      <th>234003</th>\n",
              "      <td>511392</td>\n",
              "      <td>2022-09-30</td>\n",
              "      <td>18:55</td>\n",
              "      <td>288912.0</td>\n",
              "      <td>TRADITIONAL BAGUETTE</td>\n",
              "      <td>1.0</td>\n",
              "      <td>1,30 €</td>\n",
              "    </tr>\n",
              "    <tr>\n",
              "      <th>234004</th>\n",
              "      <td>511395</td>\n",
              "      <td>2022-09-30</td>\n",
              "      <td>18:56</td>\n",
              "      <td>288913.0</td>\n",
              "      <td>TRADITIONAL BAGUETTE</td>\n",
              "      <td>1.0</td>\n",
              "      <td>1,30 €</td>\n",
              "    </tr>\n",
              "  </tbody>\n",
              "</table>\n",
              "<p>234005 rows × 7 columns</p>\n",
              "</div>\n",
              "      <button class=\"colab-df-convert\" onclick=\"convertToInteractive('df-2689e7de-7244-4546-9048-b0996278ce14')\"\n",
              "              title=\"Convert this dataframe to an interactive table.\"\n",
              "              style=\"display:none;\">\n",
              "        \n",
              "  <svg xmlns=\"http://www.w3.org/2000/svg\" height=\"24px\"viewBox=\"0 0 24 24\"\n",
              "       width=\"24px\">\n",
              "    <path d=\"M0 0h24v24H0V0z\" fill=\"none\"/>\n",
              "    <path d=\"M18.56 5.44l.94 2.06.94-2.06 2.06-.94-2.06-.94-.94-2.06-.94 2.06-2.06.94zm-11 1L8.5 8.5l.94-2.06 2.06-.94-2.06-.94L8.5 2.5l-.94 2.06-2.06.94zm10 10l.94 2.06.94-2.06 2.06-.94-2.06-.94-.94-2.06-.94 2.06-2.06.94z\"/><path d=\"M17.41 7.96l-1.37-1.37c-.4-.4-.92-.59-1.43-.59-.52 0-1.04.2-1.43.59L10.3 9.45l-7.72 7.72c-.78.78-.78 2.05 0 2.83L4 21.41c.39.39.9.59 1.41.59.51 0 1.02-.2 1.41-.59l7.78-7.78 2.81-2.81c.8-.78.8-2.07 0-2.86zM5.41 20L4 18.59l7.72-7.72 1.47 1.35L5.41 20z\"/>\n",
              "  </svg>\n",
              "      </button>\n",
              "      \n",
              "  <style>\n",
              "    .colab-df-container {\n",
              "      display:flex;\n",
              "      flex-wrap:wrap;\n",
              "      gap: 12px;\n",
              "    }\n",
              "\n",
              "    .colab-df-convert {\n",
              "      background-color: #E8F0FE;\n",
              "      border: none;\n",
              "      border-radius: 50%;\n",
              "      cursor: pointer;\n",
              "      display: none;\n",
              "      fill: #1967D2;\n",
              "      height: 32px;\n",
              "      padding: 0 0 0 0;\n",
              "      width: 32px;\n",
              "    }\n",
              "\n",
              "    .colab-df-convert:hover {\n",
              "      background-color: #E2EBFA;\n",
              "      box-shadow: 0px 1px 2px rgba(60, 64, 67, 0.3), 0px 1px 3px 1px rgba(60, 64, 67, 0.15);\n",
              "      fill: #174EA6;\n",
              "    }\n",
              "\n",
              "    [theme=dark] .colab-df-convert {\n",
              "      background-color: #3B4455;\n",
              "      fill: #D2E3FC;\n",
              "    }\n",
              "\n",
              "    [theme=dark] .colab-df-convert:hover {\n",
              "      background-color: #434B5C;\n",
              "      box-shadow: 0px 1px 3px 1px rgba(0, 0, 0, 0.15);\n",
              "      filter: drop-shadow(0px 1px 2px rgba(0, 0, 0, 0.3));\n",
              "      fill: #FFFFFF;\n",
              "    }\n",
              "  </style>\n",
              "\n",
              "      <script>\n",
              "        const buttonEl =\n",
              "          document.querySelector('#df-2689e7de-7244-4546-9048-b0996278ce14 button.colab-df-convert');\n",
              "        buttonEl.style.display =\n",
              "          google.colab.kernel.accessAllowed ? 'block' : 'none';\n",
              "\n",
              "        async function convertToInteractive(key) {\n",
              "          const element = document.querySelector('#df-2689e7de-7244-4546-9048-b0996278ce14');\n",
              "          const dataTable =\n",
              "            await google.colab.kernel.invokeFunction('convertToInteractive',\n",
              "                                                     [key], {});\n",
              "          if (!dataTable) return;\n",
              "\n",
              "          const docLinkHtml = 'Like what you see? Visit the ' +\n",
              "            '<a target=\"_blank\" href=https://colab.research.google.com/notebooks/data_table.ipynb>data table notebook</a>'\n",
              "            + ' to learn more about interactive tables.';\n",
              "          element.innerHTML = '';\n",
              "          dataTable['output_type'] = 'display_data';\n",
              "          await google.colab.output.renderOutput(dataTable, element);\n",
              "          const docLink = document.createElement('div');\n",
              "          docLink.innerHTML = docLinkHtml;\n",
              "          element.appendChild(docLink);\n",
              "        }\n",
              "      </script>\n",
              "    </div>\n",
              "  </div>\n",
              "  "
            ]
          },
          "metadata": {},
          "execution_count": 952
        }
      ],
      "source": [
        "df = pd.read_csv('/content/Bakery sales.csv')\n",
        "df"
      ]
    },
    {
      "cell_type": "code",
      "execution_count": 953,
      "metadata": {
        "colab": {
          "base_uri": "https://localhost:8080/",
          "height": 411
        },
        "id": "vFhXOqsW4S0T",
        "outputId": "12603581-6a10-4b46-b76e-8141b448d15d"
      },
      "outputs": [
        {
          "output_type": "execute_result",
          "data": {
            "text/plain": [
              "              date   time  ticket_number               article  Quantity  \\\n",
              "0       2021-01-02  08:38       150040.0              BAGUETTE       1.0   \n",
              "1       2021-01-02  08:38       150040.0      PAIN AU CHOCOLAT       3.0   \n",
              "2       2021-01-02  09:14       150041.0      PAIN AU CHOCOLAT       2.0   \n",
              "3       2021-01-02  09:14       150041.0                  PAIN       1.0   \n",
              "4       2021-01-02  09:25       150042.0  TRADITIONAL BAGUETTE       5.0   \n",
              "...            ...    ...            ...                   ...       ...   \n",
              "234000  2022-09-30  18:52       288911.0                 COUPE       1.0   \n",
              "234001  2022-09-30  18:52       288911.0            BOULE 200G       1.0   \n",
              "234002  2022-09-30  18:52       288911.0                 COUPE       2.0   \n",
              "234003  2022-09-30  18:55       288912.0  TRADITIONAL BAGUETTE       1.0   \n",
              "234004  2022-09-30  18:56       288913.0  TRADITIONAL BAGUETTE       1.0   \n",
              "\n",
              "       unit_price  \n",
              "0          0,90 €  \n",
              "1          1,20 €  \n",
              "2          1,20 €  \n",
              "3          1,15 €  \n",
              "4          1,20 €  \n",
              "...           ...  \n",
              "234000     0,15 €  \n",
              "234001     1,20 €  \n",
              "234002     0,15 €  \n",
              "234003     1,30 €  \n",
              "234004     1,30 €  \n",
              "\n",
              "[234005 rows x 6 columns]"
            ],
            "text/html": [
              "\n",
              "  <div id=\"df-58402c72-3d03-41be-85a3-074c3d363b7e\">\n",
              "    <div class=\"colab-df-container\">\n",
              "      <div>\n",
              "<style scoped>\n",
              "    .dataframe tbody tr th:only-of-type {\n",
              "        vertical-align: middle;\n",
              "    }\n",
              "\n",
              "    .dataframe tbody tr th {\n",
              "        vertical-align: top;\n",
              "    }\n",
              "\n",
              "    .dataframe thead th {\n",
              "        text-align: right;\n",
              "    }\n",
              "</style>\n",
              "<table border=\"1\" class=\"dataframe\">\n",
              "  <thead>\n",
              "    <tr style=\"text-align: right;\">\n",
              "      <th></th>\n",
              "      <th>date</th>\n",
              "      <th>time</th>\n",
              "      <th>ticket_number</th>\n",
              "      <th>article</th>\n",
              "      <th>Quantity</th>\n",
              "      <th>unit_price</th>\n",
              "    </tr>\n",
              "  </thead>\n",
              "  <tbody>\n",
              "    <tr>\n",
              "      <th>0</th>\n",
              "      <td>2021-01-02</td>\n",
              "      <td>08:38</td>\n",
              "      <td>150040.0</td>\n",
              "      <td>BAGUETTE</td>\n",
              "      <td>1.0</td>\n",
              "      <td>0,90 €</td>\n",
              "    </tr>\n",
              "    <tr>\n",
              "      <th>1</th>\n",
              "      <td>2021-01-02</td>\n",
              "      <td>08:38</td>\n",
              "      <td>150040.0</td>\n",
              "      <td>PAIN AU CHOCOLAT</td>\n",
              "      <td>3.0</td>\n",
              "      <td>1,20 €</td>\n",
              "    </tr>\n",
              "    <tr>\n",
              "      <th>2</th>\n",
              "      <td>2021-01-02</td>\n",
              "      <td>09:14</td>\n",
              "      <td>150041.0</td>\n",
              "      <td>PAIN AU CHOCOLAT</td>\n",
              "      <td>2.0</td>\n",
              "      <td>1,20 €</td>\n",
              "    </tr>\n",
              "    <tr>\n",
              "      <th>3</th>\n",
              "      <td>2021-01-02</td>\n",
              "      <td>09:14</td>\n",
              "      <td>150041.0</td>\n",
              "      <td>PAIN</td>\n",
              "      <td>1.0</td>\n",
              "      <td>1,15 €</td>\n",
              "    </tr>\n",
              "    <tr>\n",
              "      <th>4</th>\n",
              "      <td>2021-01-02</td>\n",
              "      <td>09:25</td>\n",
              "      <td>150042.0</td>\n",
              "      <td>TRADITIONAL BAGUETTE</td>\n",
              "      <td>5.0</td>\n",
              "      <td>1,20 €</td>\n",
              "    </tr>\n",
              "    <tr>\n",
              "      <th>...</th>\n",
              "      <td>...</td>\n",
              "      <td>...</td>\n",
              "      <td>...</td>\n",
              "      <td>...</td>\n",
              "      <td>...</td>\n",
              "      <td>...</td>\n",
              "    </tr>\n",
              "    <tr>\n",
              "      <th>234000</th>\n",
              "      <td>2022-09-30</td>\n",
              "      <td>18:52</td>\n",
              "      <td>288911.0</td>\n",
              "      <td>COUPE</td>\n",
              "      <td>1.0</td>\n",
              "      <td>0,15 €</td>\n",
              "    </tr>\n",
              "    <tr>\n",
              "      <th>234001</th>\n",
              "      <td>2022-09-30</td>\n",
              "      <td>18:52</td>\n",
              "      <td>288911.0</td>\n",
              "      <td>BOULE 200G</td>\n",
              "      <td>1.0</td>\n",
              "      <td>1,20 €</td>\n",
              "    </tr>\n",
              "    <tr>\n",
              "      <th>234002</th>\n",
              "      <td>2022-09-30</td>\n",
              "      <td>18:52</td>\n",
              "      <td>288911.0</td>\n",
              "      <td>COUPE</td>\n",
              "      <td>2.0</td>\n",
              "      <td>0,15 €</td>\n",
              "    </tr>\n",
              "    <tr>\n",
              "      <th>234003</th>\n",
              "      <td>2022-09-30</td>\n",
              "      <td>18:55</td>\n",
              "      <td>288912.0</td>\n",
              "      <td>TRADITIONAL BAGUETTE</td>\n",
              "      <td>1.0</td>\n",
              "      <td>1,30 €</td>\n",
              "    </tr>\n",
              "    <tr>\n",
              "      <th>234004</th>\n",
              "      <td>2022-09-30</td>\n",
              "      <td>18:56</td>\n",
              "      <td>288913.0</td>\n",
              "      <td>TRADITIONAL BAGUETTE</td>\n",
              "      <td>1.0</td>\n",
              "      <td>1,30 €</td>\n",
              "    </tr>\n",
              "  </tbody>\n",
              "</table>\n",
              "<p>234005 rows × 6 columns</p>\n",
              "</div>\n",
              "      <button class=\"colab-df-convert\" onclick=\"convertToInteractive('df-58402c72-3d03-41be-85a3-074c3d363b7e')\"\n",
              "              title=\"Convert this dataframe to an interactive table.\"\n",
              "              style=\"display:none;\">\n",
              "        \n",
              "  <svg xmlns=\"http://www.w3.org/2000/svg\" height=\"24px\"viewBox=\"0 0 24 24\"\n",
              "       width=\"24px\">\n",
              "    <path d=\"M0 0h24v24H0V0z\" fill=\"none\"/>\n",
              "    <path d=\"M18.56 5.44l.94 2.06.94-2.06 2.06-.94-2.06-.94-.94-2.06-.94 2.06-2.06.94zm-11 1L8.5 8.5l.94-2.06 2.06-.94-2.06-.94L8.5 2.5l-.94 2.06-2.06.94zm10 10l.94 2.06.94-2.06 2.06-.94-2.06-.94-.94-2.06-.94 2.06-2.06.94z\"/><path d=\"M17.41 7.96l-1.37-1.37c-.4-.4-.92-.59-1.43-.59-.52 0-1.04.2-1.43.59L10.3 9.45l-7.72 7.72c-.78.78-.78 2.05 0 2.83L4 21.41c.39.39.9.59 1.41.59.51 0 1.02-.2 1.41-.59l7.78-7.78 2.81-2.81c.8-.78.8-2.07 0-2.86zM5.41 20L4 18.59l7.72-7.72 1.47 1.35L5.41 20z\"/>\n",
              "  </svg>\n",
              "      </button>\n",
              "      \n",
              "  <style>\n",
              "    .colab-df-container {\n",
              "      display:flex;\n",
              "      flex-wrap:wrap;\n",
              "      gap: 12px;\n",
              "    }\n",
              "\n",
              "    .colab-df-convert {\n",
              "      background-color: #E8F0FE;\n",
              "      border: none;\n",
              "      border-radius: 50%;\n",
              "      cursor: pointer;\n",
              "      display: none;\n",
              "      fill: #1967D2;\n",
              "      height: 32px;\n",
              "      padding: 0 0 0 0;\n",
              "      width: 32px;\n",
              "    }\n",
              "\n",
              "    .colab-df-convert:hover {\n",
              "      background-color: #E2EBFA;\n",
              "      box-shadow: 0px 1px 2px rgba(60, 64, 67, 0.3), 0px 1px 3px 1px rgba(60, 64, 67, 0.15);\n",
              "      fill: #174EA6;\n",
              "    }\n",
              "\n",
              "    [theme=dark] .colab-df-convert {\n",
              "      background-color: #3B4455;\n",
              "      fill: #D2E3FC;\n",
              "    }\n",
              "\n",
              "    [theme=dark] .colab-df-convert:hover {\n",
              "      background-color: #434B5C;\n",
              "      box-shadow: 0px 1px 3px 1px rgba(0, 0, 0, 0.15);\n",
              "      filter: drop-shadow(0px 1px 2px rgba(0, 0, 0, 0.3));\n",
              "      fill: #FFFFFF;\n",
              "    }\n",
              "  </style>\n",
              "\n",
              "      <script>\n",
              "        const buttonEl =\n",
              "          document.querySelector('#df-58402c72-3d03-41be-85a3-074c3d363b7e button.colab-df-convert');\n",
              "        buttonEl.style.display =\n",
              "          google.colab.kernel.accessAllowed ? 'block' : 'none';\n",
              "\n",
              "        async function convertToInteractive(key) {\n",
              "          const element = document.querySelector('#df-58402c72-3d03-41be-85a3-074c3d363b7e');\n",
              "          const dataTable =\n",
              "            await google.colab.kernel.invokeFunction('convertToInteractive',\n",
              "                                                     [key], {});\n",
              "          if (!dataTable) return;\n",
              "\n",
              "          const docLinkHtml = 'Like what you see? Visit the ' +\n",
              "            '<a target=\"_blank\" href=https://colab.research.google.com/notebooks/data_table.ipynb>data table notebook</a>'\n",
              "            + ' to learn more about interactive tables.';\n",
              "          element.innerHTML = '';\n",
              "          dataTable['output_type'] = 'display_data';\n",
              "          await google.colab.output.renderOutput(dataTable, element);\n",
              "          const docLink = document.createElement('div');\n",
              "          docLink.innerHTML = docLinkHtml;\n",
              "          element.appendChild(docLink);\n",
              "        }\n",
              "      </script>\n",
              "    </div>\n",
              "  </div>\n",
              "  "
            ]
          },
          "metadata": {},
          "execution_count": 953
        }
      ],
      "source": [
        "df.drop(columns = ['Unnamed: 0'], axis = 1, inplace=True)\n",
        "df\n",
        "#в датасете есть столбец с порядковыми номерами без заголовка, который не отражает никакие нужные нам данные, поэтому удаляем его из таблицы. "
      ]
    },
    {
      "cell_type": "code",
      "execution_count": 954,
      "metadata": {
        "colab": {
          "base_uri": "https://localhost:8080/"
        },
        "id": "62Heu3qhqZlV",
        "outputId": "cad46d1b-6db0-4720-8f21-e26763984c34"
      },
      "outputs": [
        {
          "output_type": "stream",
          "name": "stdout",
          "text": [
            "<class 'pandas.core.frame.DataFrame'>\n",
            "RangeIndex: 234005 entries, 0 to 234004\n",
            "Data columns (total 6 columns):\n",
            " #   Column         Non-Null Count   Dtype  \n",
            "---  ------         --------------   -----  \n",
            " 0   date           234005 non-null  object \n",
            " 1   time           234005 non-null  object \n",
            " 2   ticket_number  234005 non-null  float64\n",
            " 3   article        234005 non-null  object \n",
            " 4   Quantity       234005 non-null  float64\n",
            " 5   unit_price     234005 non-null  object \n",
            "dtypes: float64(2), object(4)\n",
            "memory usage: 10.7+ MB\n"
          ]
        }
      ],
      "source": [
        "df.info()\n",
        "#Проверяем, нет ли пустых значений и избавляемся от них, а также форматов данных, которые потребуется изменить для удобства анализа"
      ]
    },
    {
      "cell_type": "markdown",
      "metadata": {
        "id": "pmSEC1hU7Nmb"
      },
      "source": [
        "Пустых значений нет. Всего в датасете 234005 строк\n",
        "\n",
        "Для дальнейшей работы нам понадобится:\n",
        "\n",
        "**1.**   разделить столбец date отдельно на год, месяц и день\n",
        "\n",
        "**2.**   cделать из данных в time новые категориальные переменные, чтобы проанализировать как время суток влияет на продажи\n",
        "\n",
        "**3.**   изменить тип данных столбца unit_price из object в float, для того чтобы с ним можно было производить манипуляции\n",
        "\n",
        "**4.**   cоздать новый столбец с общей суммой чека для дальнейшнего анализа"
      ]
    },
    {
      "cell_type": "code",
      "execution_count": 955,
      "metadata": {
        "id": "ZrejzFwFLESA"
      },
      "outputs": [],
      "source": [
        "#1 изменим формат данных стоблца date, а также разделим на разные столбцы\n",
        "df['date'] = df['date'].apply(lambda x: dt.date.fromisoformat(x))\n",
        "df['day'] = df['date'].apply(lambda x: x.day)\n",
        "df['month'] = df['date'].apply(lambda x: x.month)\n",
        "df['year'] = df['date'].apply(lambda x: x.year)"
      ]
    },
    {
      "cell_type": "code",
      "execution_count": 956,
      "metadata": {
        "id": "n_seuOv1w17n"
      },
      "outputs": [],
      "source": [
        "#добавим слобец с днем недели\n",
        "df['date'] = pd.to_datetime(df['date'])\n",
        "df['weekday'] = df['date'].dt.weekday"
      ]
    },
    {
      "cell_type": "code",
      "execution_count": 957,
      "metadata": {
        "colab": {
          "base_uri": "https://localhost:8080/"
        },
        "id": "DDcQWgkS8EBo",
        "outputId": "8671d5f2-f98b-4fdb-caa3-d04a72186942"
      },
      "outputs": [
        {
          "output_type": "execute_result",
          "data": {
            "text/plain": [
              "['07:01', '20:01']"
            ]
          },
          "metadata": {},
          "execution_count": 957
        }
      ],
      "source": [
        "#2 Для начала посмотрим, какие уникальные значения есть в столбце time, чтобы понять время работы пекарни, от которого будем отталкиваться. \n",
        "#Cразу же просортируем их для удобства, и выведем только самое маленькое и самое большое значения\n",
        "times = sorted(df['time'].unique())\n",
        "[times[0], times[-1]]\n",
        "#Понимаем, что пекарня работает с 7:00 до 20:00"
      ]
    },
    {
      "cell_type": "code",
      "execution_count": 958,
      "metadata": {
        "id": "XeF2Etvz-O7D"
      },
      "outputs": [],
      "source": [
        "#С помощью функции создадим новые категории времени суток, которые пригодятся для анализа продаж\n",
        "def get_time_cat(time_str): \n",
        "  time_arr = time_str.split(\":\")\n",
        "  time = dt.time(int(time_arr[0]), int(time_arr[1]))\n",
        "  if time <= dt.time(10, 59):\n",
        "    return 'Утро'\n",
        "  elif time <= dt.time(16, 59):\n",
        "    return 'День'\n",
        "  elif time >= dt.time(17, 00):\n",
        "    return 'Вечер'"
      ]
    },
    {
      "cell_type": "code",
      "execution_count": 959,
      "metadata": {
        "id": "6e5l4FE_KTWI"
      },
      "outputs": [],
      "source": [
        "df['time_category'] = df['time'].apply(get_time_cat)"
      ]
    },
    {
      "cell_type": "code",
      "execution_count": 960,
      "metadata": {
        "id": "zsViAtDciw2N"
      },
      "outputs": [],
      "source": [
        "#3 Поменяем тип данных в unit_price. Для этого нужно также удалить знак евро и заменить запятые на точки, иначе тип данных не получится изменить\n",
        "df['unit_price'] = df['unit_price'].str.replace('€','')\n",
        "df['unit_price'] = df['unit_price'].str.replace(',','.')\n",
        "df['unit_price'] = df['unit_price'].astype(float)"
      ]
    },
    {
      "cell_type": "code",
      "execution_count": 961,
      "metadata": {
        "id": "4x2TFXxDhCV9"
      },
      "outputs": [],
      "source": [
        "#4 Узнаем сумму чека. Сначала умножим количество одного артикула на стоимость за единицу\n",
        "df['ticket_price'] = df['Quantity'] * df['unit_price']"
      ]
    },
    {
      "cell_type": "code",
      "execution_count": 962,
      "metadata": {
        "colab": {
          "base_uri": "https://localhost:8080/",
          "height": 411
        },
        "id": "LsDR0Xjs5GLi",
        "outputId": "63d6d14f-48e6-4de3-df28-6ee2f54f8d4f"
      },
      "outputs": [
        {
          "output_type": "execute_result",
          "data": {
            "text/plain": [
              "             date   time  ticket_number               article  Quantity  \\\n",
              "0      2021-01-02  08:38       150040.0              BAGUETTE       1.0   \n",
              "1      2021-01-02  08:38       150040.0      PAIN AU CHOCOLAT       3.0   \n",
              "2      2021-01-02  09:14       150041.0      PAIN AU CHOCOLAT       2.0   \n",
              "3      2021-01-02  09:14       150041.0                  PAIN       1.0   \n",
              "4      2021-01-02  09:25       150042.0  TRADITIONAL BAGUETTE       5.0   \n",
              "...           ...    ...            ...                   ...       ...   \n",
              "234000 2022-09-30  18:52       288911.0                 COUPE       1.0   \n",
              "234001 2022-09-30  18:52       288911.0            BOULE 200G       1.0   \n",
              "234002 2022-09-30  18:52       288911.0                 COUPE       2.0   \n",
              "234003 2022-09-30  18:55       288912.0  TRADITIONAL BAGUETTE       1.0   \n",
              "234004 2022-09-30  18:56       288913.0  TRADITIONAL BAGUETTE       1.0   \n",
              "\n",
              "        unit_price  day  month  year  weekday time_category  ticket_price  \n",
              "0             0.90    2      1  2021        5          Утро          0.90  \n",
              "1             1.20    2      1  2021        5          Утро          3.60  \n",
              "2             1.20    2      1  2021        5          Утро          2.40  \n",
              "3             1.15    2      1  2021        5          Утро          1.15  \n",
              "4             1.20    2      1  2021        5          Утро          6.00  \n",
              "...            ...  ...    ...   ...      ...           ...           ...  \n",
              "234000        0.15   30      9  2022        4         Вечер          0.15  \n",
              "234001        1.20   30      9  2022        4         Вечер          1.20  \n",
              "234002        0.15   30      9  2022        4         Вечер          0.30  \n",
              "234003        1.30   30      9  2022        4         Вечер          1.30  \n",
              "234004        1.30   30      9  2022        4         Вечер          1.30  \n",
              "\n",
              "[234005 rows x 12 columns]"
            ],
            "text/html": [
              "\n",
              "  <div id=\"df-768e555d-21e1-4680-91e3-2cc640710de7\">\n",
              "    <div class=\"colab-df-container\">\n",
              "      <div>\n",
              "<style scoped>\n",
              "    .dataframe tbody tr th:only-of-type {\n",
              "        vertical-align: middle;\n",
              "    }\n",
              "\n",
              "    .dataframe tbody tr th {\n",
              "        vertical-align: top;\n",
              "    }\n",
              "\n",
              "    .dataframe thead th {\n",
              "        text-align: right;\n",
              "    }\n",
              "</style>\n",
              "<table border=\"1\" class=\"dataframe\">\n",
              "  <thead>\n",
              "    <tr style=\"text-align: right;\">\n",
              "      <th></th>\n",
              "      <th>date</th>\n",
              "      <th>time</th>\n",
              "      <th>ticket_number</th>\n",
              "      <th>article</th>\n",
              "      <th>Quantity</th>\n",
              "      <th>unit_price</th>\n",
              "      <th>day</th>\n",
              "      <th>month</th>\n",
              "      <th>year</th>\n",
              "      <th>weekday</th>\n",
              "      <th>time_category</th>\n",
              "      <th>ticket_price</th>\n",
              "    </tr>\n",
              "  </thead>\n",
              "  <tbody>\n",
              "    <tr>\n",
              "      <th>0</th>\n",
              "      <td>2021-01-02</td>\n",
              "      <td>08:38</td>\n",
              "      <td>150040.0</td>\n",
              "      <td>BAGUETTE</td>\n",
              "      <td>1.0</td>\n",
              "      <td>0.90</td>\n",
              "      <td>2</td>\n",
              "      <td>1</td>\n",
              "      <td>2021</td>\n",
              "      <td>5</td>\n",
              "      <td>Утро</td>\n",
              "      <td>0.90</td>\n",
              "    </tr>\n",
              "    <tr>\n",
              "      <th>1</th>\n",
              "      <td>2021-01-02</td>\n",
              "      <td>08:38</td>\n",
              "      <td>150040.0</td>\n",
              "      <td>PAIN AU CHOCOLAT</td>\n",
              "      <td>3.0</td>\n",
              "      <td>1.20</td>\n",
              "      <td>2</td>\n",
              "      <td>1</td>\n",
              "      <td>2021</td>\n",
              "      <td>5</td>\n",
              "      <td>Утро</td>\n",
              "      <td>3.60</td>\n",
              "    </tr>\n",
              "    <tr>\n",
              "      <th>2</th>\n",
              "      <td>2021-01-02</td>\n",
              "      <td>09:14</td>\n",
              "      <td>150041.0</td>\n",
              "      <td>PAIN AU CHOCOLAT</td>\n",
              "      <td>2.0</td>\n",
              "      <td>1.20</td>\n",
              "      <td>2</td>\n",
              "      <td>1</td>\n",
              "      <td>2021</td>\n",
              "      <td>5</td>\n",
              "      <td>Утро</td>\n",
              "      <td>2.40</td>\n",
              "    </tr>\n",
              "    <tr>\n",
              "      <th>3</th>\n",
              "      <td>2021-01-02</td>\n",
              "      <td>09:14</td>\n",
              "      <td>150041.0</td>\n",
              "      <td>PAIN</td>\n",
              "      <td>1.0</td>\n",
              "      <td>1.15</td>\n",
              "      <td>2</td>\n",
              "      <td>1</td>\n",
              "      <td>2021</td>\n",
              "      <td>5</td>\n",
              "      <td>Утро</td>\n",
              "      <td>1.15</td>\n",
              "    </tr>\n",
              "    <tr>\n",
              "      <th>4</th>\n",
              "      <td>2021-01-02</td>\n",
              "      <td>09:25</td>\n",
              "      <td>150042.0</td>\n",
              "      <td>TRADITIONAL BAGUETTE</td>\n",
              "      <td>5.0</td>\n",
              "      <td>1.20</td>\n",
              "      <td>2</td>\n",
              "      <td>1</td>\n",
              "      <td>2021</td>\n",
              "      <td>5</td>\n",
              "      <td>Утро</td>\n",
              "      <td>6.00</td>\n",
              "    </tr>\n",
              "    <tr>\n",
              "      <th>...</th>\n",
              "      <td>...</td>\n",
              "      <td>...</td>\n",
              "      <td>...</td>\n",
              "      <td>...</td>\n",
              "      <td>...</td>\n",
              "      <td>...</td>\n",
              "      <td>...</td>\n",
              "      <td>...</td>\n",
              "      <td>...</td>\n",
              "      <td>...</td>\n",
              "      <td>...</td>\n",
              "      <td>...</td>\n",
              "    </tr>\n",
              "    <tr>\n",
              "      <th>234000</th>\n",
              "      <td>2022-09-30</td>\n",
              "      <td>18:52</td>\n",
              "      <td>288911.0</td>\n",
              "      <td>COUPE</td>\n",
              "      <td>1.0</td>\n",
              "      <td>0.15</td>\n",
              "      <td>30</td>\n",
              "      <td>9</td>\n",
              "      <td>2022</td>\n",
              "      <td>4</td>\n",
              "      <td>Вечер</td>\n",
              "      <td>0.15</td>\n",
              "    </tr>\n",
              "    <tr>\n",
              "      <th>234001</th>\n",
              "      <td>2022-09-30</td>\n",
              "      <td>18:52</td>\n",
              "      <td>288911.0</td>\n",
              "      <td>BOULE 200G</td>\n",
              "      <td>1.0</td>\n",
              "      <td>1.20</td>\n",
              "      <td>30</td>\n",
              "      <td>9</td>\n",
              "      <td>2022</td>\n",
              "      <td>4</td>\n",
              "      <td>Вечер</td>\n",
              "      <td>1.20</td>\n",
              "    </tr>\n",
              "    <tr>\n",
              "      <th>234002</th>\n",
              "      <td>2022-09-30</td>\n",
              "      <td>18:52</td>\n",
              "      <td>288911.0</td>\n",
              "      <td>COUPE</td>\n",
              "      <td>2.0</td>\n",
              "      <td>0.15</td>\n",
              "      <td>30</td>\n",
              "      <td>9</td>\n",
              "      <td>2022</td>\n",
              "      <td>4</td>\n",
              "      <td>Вечер</td>\n",
              "      <td>0.30</td>\n",
              "    </tr>\n",
              "    <tr>\n",
              "      <th>234003</th>\n",
              "      <td>2022-09-30</td>\n",
              "      <td>18:55</td>\n",
              "      <td>288912.0</td>\n",
              "      <td>TRADITIONAL BAGUETTE</td>\n",
              "      <td>1.0</td>\n",
              "      <td>1.30</td>\n",
              "      <td>30</td>\n",
              "      <td>9</td>\n",
              "      <td>2022</td>\n",
              "      <td>4</td>\n",
              "      <td>Вечер</td>\n",
              "      <td>1.30</td>\n",
              "    </tr>\n",
              "    <tr>\n",
              "      <th>234004</th>\n",
              "      <td>2022-09-30</td>\n",
              "      <td>18:56</td>\n",
              "      <td>288913.0</td>\n",
              "      <td>TRADITIONAL BAGUETTE</td>\n",
              "      <td>1.0</td>\n",
              "      <td>1.30</td>\n",
              "      <td>30</td>\n",
              "      <td>9</td>\n",
              "      <td>2022</td>\n",
              "      <td>4</td>\n",
              "      <td>Вечер</td>\n",
              "      <td>1.30</td>\n",
              "    </tr>\n",
              "  </tbody>\n",
              "</table>\n",
              "<p>234005 rows × 12 columns</p>\n",
              "</div>\n",
              "      <button class=\"colab-df-convert\" onclick=\"convertToInteractive('df-768e555d-21e1-4680-91e3-2cc640710de7')\"\n",
              "              title=\"Convert this dataframe to an interactive table.\"\n",
              "              style=\"display:none;\">\n",
              "        \n",
              "  <svg xmlns=\"http://www.w3.org/2000/svg\" height=\"24px\"viewBox=\"0 0 24 24\"\n",
              "       width=\"24px\">\n",
              "    <path d=\"M0 0h24v24H0V0z\" fill=\"none\"/>\n",
              "    <path d=\"M18.56 5.44l.94 2.06.94-2.06 2.06-.94-2.06-.94-.94-2.06-.94 2.06-2.06.94zm-11 1L8.5 8.5l.94-2.06 2.06-.94-2.06-.94L8.5 2.5l-.94 2.06-2.06.94zm10 10l.94 2.06.94-2.06 2.06-.94-2.06-.94-.94-2.06-.94 2.06-2.06.94z\"/><path d=\"M17.41 7.96l-1.37-1.37c-.4-.4-.92-.59-1.43-.59-.52 0-1.04.2-1.43.59L10.3 9.45l-7.72 7.72c-.78.78-.78 2.05 0 2.83L4 21.41c.39.39.9.59 1.41.59.51 0 1.02-.2 1.41-.59l7.78-7.78 2.81-2.81c.8-.78.8-2.07 0-2.86zM5.41 20L4 18.59l7.72-7.72 1.47 1.35L5.41 20z\"/>\n",
              "  </svg>\n",
              "      </button>\n",
              "      \n",
              "  <style>\n",
              "    .colab-df-container {\n",
              "      display:flex;\n",
              "      flex-wrap:wrap;\n",
              "      gap: 12px;\n",
              "    }\n",
              "\n",
              "    .colab-df-convert {\n",
              "      background-color: #E8F0FE;\n",
              "      border: none;\n",
              "      border-radius: 50%;\n",
              "      cursor: pointer;\n",
              "      display: none;\n",
              "      fill: #1967D2;\n",
              "      height: 32px;\n",
              "      padding: 0 0 0 0;\n",
              "      width: 32px;\n",
              "    }\n",
              "\n",
              "    .colab-df-convert:hover {\n",
              "      background-color: #E2EBFA;\n",
              "      box-shadow: 0px 1px 2px rgba(60, 64, 67, 0.3), 0px 1px 3px 1px rgba(60, 64, 67, 0.15);\n",
              "      fill: #174EA6;\n",
              "    }\n",
              "\n",
              "    [theme=dark] .colab-df-convert {\n",
              "      background-color: #3B4455;\n",
              "      fill: #D2E3FC;\n",
              "    }\n",
              "\n",
              "    [theme=dark] .colab-df-convert:hover {\n",
              "      background-color: #434B5C;\n",
              "      box-shadow: 0px 1px 3px 1px rgba(0, 0, 0, 0.15);\n",
              "      filter: drop-shadow(0px 1px 2px rgba(0, 0, 0, 0.3));\n",
              "      fill: #FFFFFF;\n",
              "    }\n",
              "  </style>\n",
              "\n",
              "      <script>\n",
              "        const buttonEl =\n",
              "          document.querySelector('#df-768e555d-21e1-4680-91e3-2cc640710de7 button.colab-df-convert');\n",
              "        buttonEl.style.display =\n",
              "          google.colab.kernel.accessAllowed ? 'block' : 'none';\n",
              "\n",
              "        async function convertToInteractive(key) {\n",
              "          const element = document.querySelector('#df-768e555d-21e1-4680-91e3-2cc640710de7');\n",
              "          const dataTable =\n",
              "            await google.colab.kernel.invokeFunction('convertToInteractive',\n",
              "                                                     [key], {});\n",
              "          if (!dataTable) return;\n",
              "\n",
              "          const docLinkHtml = 'Like what you see? Visit the ' +\n",
              "            '<a target=\"_blank\" href=https://colab.research.google.com/notebooks/data_table.ipynb>data table notebook</a>'\n",
              "            + ' to learn more about interactive tables.';\n",
              "          element.innerHTML = '';\n",
              "          dataTable['output_type'] = 'display_data';\n",
              "          await google.colab.output.renderOutput(dataTable, element);\n",
              "          const docLink = document.createElement('div');\n",
              "          docLink.innerHTML = docLinkHtml;\n",
              "          element.appendChild(docLink);\n",
              "        }\n",
              "      </script>\n",
              "    </div>\n",
              "  </div>\n",
              "  "
            ]
          },
          "metadata": {},
          "execution_count": 962
        }
      ],
      "source": [
        "df"
      ]
    },
    {
      "cell_type": "markdown",
      "metadata": {
        "id": "dD4oLDJ8U0_U"
      },
      "source": [
        "**Часть 2.** Описательные статистики"
      ]
    },
    {
      "cell_type": "code",
      "execution_count": 963,
      "metadata": {
        "colab": {
          "base_uri": "https://localhost:8080/",
          "height": 291
        },
        "id": "asCPRK8RVY8f",
        "outputId": "08806943-e5e8-4212-e305-c943bfa862e5"
      },
      "outputs": [
        {
          "output_type": "execute_result",
          "data": {
            "text/plain": [
              "       ticket_number       Quantity     unit_price            day  \\\n",
              "count  234005.000000  234005.000000  234005.000000  234005.000000   \n",
              "mean   219201.258738       1.538377       1.662195      16.014876   \n",
              "std     40053.223896       1.289603       1.722720       8.763694   \n",
              "min    150040.000000    -200.000000       0.000000       1.000000   \n",
              "25%    184754.000000       1.000000       1.100000       9.000000   \n",
              "50%    218807.000000       1.000000       1.200000      16.000000   \n",
              "75%    253927.000000       2.000000       1.500000      24.000000   \n",
              "max    288913.000000     200.000000      60.000000      31.000000   \n",
              "\n",
              "               month           year        weekday   ticket_price  \n",
              "count  234005.000000  234005.000000  234005.000000  234005.000000  \n",
              "mean        6.240862    2021.438388       3.341506       2.387303  \n",
              "std         2.800774       0.496191       2.107319       2.635041  \n",
              "min         1.000000    2021.000000       0.000000    -200.000000  \n",
              "25%         4.000000    2021.000000       1.000000       1.200000  \n",
              "50%         7.000000    2021.000000       4.000000       1.600000  \n",
              "75%         8.000000    2022.000000       5.000000       2.600000  \n",
              "max        12.000000    2022.000000       6.000000     200.000000  "
            ],
            "text/html": [
              "\n",
              "  <div id=\"df-0482ce5a-e200-44ff-99af-639f92dafa8e\">\n",
              "    <div class=\"colab-df-container\">\n",
              "      <div>\n",
              "<style scoped>\n",
              "    .dataframe tbody tr th:only-of-type {\n",
              "        vertical-align: middle;\n",
              "    }\n",
              "\n",
              "    .dataframe tbody tr th {\n",
              "        vertical-align: top;\n",
              "    }\n",
              "\n",
              "    .dataframe thead th {\n",
              "        text-align: right;\n",
              "    }\n",
              "</style>\n",
              "<table border=\"1\" class=\"dataframe\">\n",
              "  <thead>\n",
              "    <tr style=\"text-align: right;\">\n",
              "      <th></th>\n",
              "      <th>ticket_number</th>\n",
              "      <th>Quantity</th>\n",
              "      <th>unit_price</th>\n",
              "      <th>day</th>\n",
              "      <th>month</th>\n",
              "      <th>year</th>\n",
              "      <th>weekday</th>\n",
              "      <th>ticket_price</th>\n",
              "    </tr>\n",
              "  </thead>\n",
              "  <tbody>\n",
              "    <tr>\n",
              "      <th>count</th>\n",
              "      <td>234005.000000</td>\n",
              "      <td>234005.000000</td>\n",
              "      <td>234005.000000</td>\n",
              "      <td>234005.000000</td>\n",
              "      <td>234005.000000</td>\n",
              "      <td>234005.000000</td>\n",
              "      <td>234005.000000</td>\n",
              "      <td>234005.000000</td>\n",
              "    </tr>\n",
              "    <tr>\n",
              "      <th>mean</th>\n",
              "      <td>219201.258738</td>\n",
              "      <td>1.538377</td>\n",
              "      <td>1.662195</td>\n",
              "      <td>16.014876</td>\n",
              "      <td>6.240862</td>\n",
              "      <td>2021.438388</td>\n",
              "      <td>3.341506</td>\n",
              "      <td>2.387303</td>\n",
              "    </tr>\n",
              "    <tr>\n",
              "      <th>std</th>\n",
              "      <td>40053.223896</td>\n",
              "      <td>1.289603</td>\n",
              "      <td>1.722720</td>\n",
              "      <td>8.763694</td>\n",
              "      <td>2.800774</td>\n",
              "      <td>0.496191</td>\n",
              "      <td>2.107319</td>\n",
              "      <td>2.635041</td>\n",
              "    </tr>\n",
              "    <tr>\n",
              "      <th>min</th>\n",
              "      <td>150040.000000</td>\n",
              "      <td>-200.000000</td>\n",
              "      <td>0.000000</td>\n",
              "      <td>1.000000</td>\n",
              "      <td>1.000000</td>\n",
              "      <td>2021.000000</td>\n",
              "      <td>0.000000</td>\n",
              "      <td>-200.000000</td>\n",
              "    </tr>\n",
              "    <tr>\n",
              "      <th>25%</th>\n",
              "      <td>184754.000000</td>\n",
              "      <td>1.000000</td>\n",
              "      <td>1.100000</td>\n",
              "      <td>9.000000</td>\n",
              "      <td>4.000000</td>\n",
              "      <td>2021.000000</td>\n",
              "      <td>1.000000</td>\n",
              "      <td>1.200000</td>\n",
              "    </tr>\n",
              "    <tr>\n",
              "      <th>50%</th>\n",
              "      <td>218807.000000</td>\n",
              "      <td>1.000000</td>\n",
              "      <td>1.200000</td>\n",
              "      <td>16.000000</td>\n",
              "      <td>7.000000</td>\n",
              "      <td>2021.000000</td>\n",
              "      <td>4.000000</td>\n",
              "      <td>1.600000</td>\n",
              "    </tr>\n",
              "    <tr>\n",
              "      <th>75%</th>\n",
              "      <td>253927.000000</td>\n",
              "      <td>2.000000</td>\n",
              "      <td>1.500000</td>\n",
              "      <td>24.000000</td>\n",
              "      <td>8.000000</td>\n",
              "      <td>2022.000000</td>\n",
              "      <td>5.000000</td>\n",
              "      <td>2.600000</td>\n",
              "    </tr>\n",
              "    <tr>\n",
              "      <th>max</th>\n",
              "      <td>288913.000000</td>\n",
              "      <td>200.000000</td>\n",
              "      <td>60.000000</td>\n",
              "      <td>31.000000</td>\n",
              "      <td>12.000000</td>\n",
              "      <td>2022.000000</td>\n",
              "      <td>6.000000</td>\n",
              "      <td>200.000000</td>\n",
              "    </tr>\n",
              "  </tbody>\n",
              "</table>\n",
              "</div>\n",
              "      <button class=\"colab-df-convert\" onclick=\"convertToInteractive('df-0482ce5a-e200-44ff-99af-639f92dafa8e')\"\n",
              "              title=\"Convert this dataframe to an interactive table.\"\n",
              "              style=\"display:none;\">\n",
              "        \n",
              "  <svg xmlns=\"http://www.w3.org/2000/svg\" height=\"24px\"viewBox=\"0 0 24 24\"\n",
              "       width=\"24px\">\n",
              "    <path d=\"M0 0h24v24H0V0z\" fill=\"none\"/>\n",
              "    <path d=\"M18.56 5.44l.94 2.06.94-2.06 2.06-.94-2.06-.94-.94-2.06-.94 2.06-2.06.94zm-11 1L8.5 8.5l.94-2.06 2.06-.94-2.06-.94L8.5 2.5l-.94 2.06-2.06.94zm10 10l.94 2.06.94-2.06 2.06-.94-2.06-.94-.94-2.06-.94 2.06-2.06.94z\"/><path d=\"M17.41 7.96l-1.37-1.37c-.4-.4-.92-.59-1.43-.59-.52 0-1.04.2-1.43.59L10.3 9.45l-7.72 7.72c-.78.78-.78 2.05 0 2.83L4 21.41c.39.39.9.59 1.41.59.51 0 1.02-.2 1.41-.59l7.78-7.78 2.81-2.81c.8-.78.8-2.07 0-2.86zM5.41 20L4 18.59l7.72-7.72 1.47 1.35L5.41 20z\"/>\n",
              "  </svg>\n",
              "      </button>\n",
              "      \n",
              "  <style>\n",
              "    .colab-df-container {\n",
              "      display:flex;\n",
              "      flex-wrap:wrap;\n",
              "      gap: 12px;\n",
              "    }\n",
              "\n",
              "    .colab-df-convert {\n",
              "      background-color: #E8F0FE;\n",
              "      border: none;\n",
              "      border-radius: 50%;\n",
              "      cursor: pointer;\n",
              "      display: none;\n",
              "      fill: #1967D2;\n",
              "      height: 32px;\n",
              "      padding: 0 0 0 0;\n",
              "      width: 32px;\n",
              "    }\n",
              "\n",
              "    .colab-df-convert:hover {\n",
              "      background-color: #E2EBFA;\n",
              "      box-shadow: 0px 1px 2px rgba(60, 64, 67, 0.3), 0px 1px 3px 1px rgba(60, 64, 67, 0.15);\n",
              "      fill: #174EA6;\n",
              "    }\n",
              "\n",
              "    [theme=dark] .colab-df-convert {\n",
              "      background-color: #3B4455;\n",
              "      fill: #D2E3FC;\n",
              "    }\n",
              "\n",
              "    [theme=dark] .colab-df-convert:hover {\n",
              "      background-color: #434B5C;\n",
              "      box-shadow: 0px 1px 3px 1px rgba(0, 0, 0, 0.15);\n",
              "      filter: drop-shadow(0px 1px 2px rgba(0, 0, 0, 0.3));\n",
              "      fill: #FFFFFF;\n",
              "    }\n",
              "  </style>\n",
              "\n",
              "      <script>\n",
              "        const buttonEl =\n",
              "          document.querySelector('#df-0482ce5a-e200-44ff-99af-639f92dafa8e button.colab-df-convert');\n",
              "        buttonEl.style.display =\n",
              "          google.colab.kernel.accessAllowed ? 'block' : 'none';\n",
              "\n",
              "        async function convertToInteractive(key) {\n",
              "          const element = document.querySelector('#df-0482ce5a-e200-44ff-99af-639f92dafa8e');\n",
              "          const dataTable =\n",
              "            await google.colab.kernel.invokeFunction('convertToInteractive',\n",
              "                                                     [key], {});\n",
              "          if (!dataTable) return;\n",
              "\n",
              "          const docLinkHtml = 'Like what you see? Visit the ' +\n",
              "            '<a target=\"_blank\" href=https://colab.research.google.com/notebooks/data_table.ipynb>data table notebook</a>'\n",
              "            + ' to learn more about interactive tables.';\n",
              "          element.innerHTML = '';\n",
              "          dataTable['output_type'] = 'display_data';\n",
              "          await google.colab.output.renderOutput(dataTable, element);\n",
              "          const docLink = document.createElement('div');\n",
              "          docLink.innerHTML = docLinkHtml;\n",
              "          element.appendChild(docLink);\n",
              "        }\n",
              "      </script>\n",
              "    </div>\n",
              "  </div>\n",
              "  "
            ]
          },
          "metadata": {},
          "execution_count": 963
        }
      ],
      "source": [
        "df.describe()"
      ]
    },
    {
      "cell_type": "code",
      "execution_count": 964,
      "metadata": {
        "colab": {
          "base_uri": "https://localhost:8080/"
        },
        "id": "ATaK7Zz7WB8a",
        "outputId": "27332de8-725c-4f8f-f999-94d1d36af349"
      },
      "outputs": [
        {
          "output_type": "execute_result",
          "data": {
            "text/plain": [
              "array([   1.,    3.,    2.,    5.,    6.,    4.,   10.,   -1.,    8.,\n",
              "          7.,   -4.,   -2.,   20.,    9.,   -3.,   -6.,   11.,   12.,\n",
              "         -5.,   -9.,   13.,  -13.,  -12.,  -10.,  200., -200.,   15.,\n",
              "         17.,   18.,   25.,   14.,  -17.,  -18.,   55.,   21.,   43.,\n",
              "         16.,   -7.,   -8.,   50.])"
            ]
          },
          "metadata": {},
          "execution_count": 964
        }
      ],
      "source": [
        "df['Quantity'].unique()"
      ]
    },
    {
      "cell_type": "markdown",
      "metadata": {
        "id": "0e9KkKUuZngn"
      },
      "source": [
        "В столбце quantity есть аномальные отрицательные значения, необходимо определить выбросы и избавиться от них\n"
      ]
    },
    {
      "cell_type": "code",
      "execution_count": 965,
      "metadata": {
        "colab": {
          "base_uri": "https://localhost:8080/"
        },
        "id": "EFPAhdEYjJhk",
        "outputId": "23dee80c-7d4f-4fbc-aa36-29bb1cf7e359"
      },
      "outputs": [
        {
          "output_type": "execute_result",
          "data": {
            "text/plain": [
              "3.5"
            ]
          },
          "metadata": {},
          "execution_count": 965
        }
      ],
      "source": [
        "q1_Qua = df['Quantity'].quantile(0.25)\n",
        "q3_Qua = df['Quantity'].quantile(0.75)\n",
        "iqr_Qua = q3_Qua - q1_Qua\n",
        "Qua_iqr_outlier_threshold_bottom = q1_Qua - 1.5 * iqr_Qua\n",
        "Qua_iqr_outlier_threshold_up = q3_Qua + 1.5 * iqr_Qua\n",
        "Qua_iqr_outlier_threshold_bottom\n",
        "Qua_iqr_outlier_threshold_up"
      ]
    },
    {
      "cell_type": "code",
      "execution_count": 966,
      "metadata": {
        "id": "P3A4Nb1ncefH"
      },
      "outputs": [],
      "source": [
        "df = df[df['Quantity'] > 0]\n",
        "df = df[df['Quantity'] < 3.5]"
      ]
    },
    {
      "cell_type": "code",
      "execution_count": 967,
      "metadata": {
        "colab": {
          "base_uri": "https://localhost:8080/",
          "height": 442
        },
        "id": "dsk5Mn7N38Xn",
        "outputId": "5b73ef23-9def-412d-fe8d-12a651791448"
      },
      "outputs": [
        {
          "output_type": "execute_result",
          "data": {
            "text/plain": [
              "               day  month  year  weekday time_category  Quantity  \\\n",
              "ticket_number                                                      \n",
              "150040.0         2      1  2021        5          Утро       4.0   \n",
              "150041.0         2      1  2021        5          Утро       3.0   \n",
              "150043.0         2      1  2021        5          Утро       5.0   \n",
              "150044.0         2      1  2021        5          Утро       1.0   \n",
              "150045.0         2      1  2021        5          Утро       3.0   \n",
              "...            ...    ...   ...      ...           ...       ...   \n",
              "288908.0        30      9  2022        4         Вечер       2.0   \n",
              "288910.0        30      9  2022        4         Вечер       1.0   \n",
              "288911.0        30      9  2022        4         Вечер       6.0   \n",
              "288912.0        30      9  2022        4         Вечер       1.0   \n",
              "288913.0        30      9  2022        4         Вечер       1.0   \n",
              "\n",
              "               ticket_price                               article  \n",
              "ticket_number                                                      \n",
              "150040.0               4.50          [BAGUETTE, PAIN AU CHOCOLAT]  \n",
              "150041.0               3.55              [PAIN AU CHOCOLAT, PAIN]  \n",
              "150043.0               5.10                 [BAGUETTE, CROISSANT]  \n",
              "150044.0               1.05                             [BANETTE]  \n",
              "150045.0               3.60                [TRADITIONAL BAGUETTE]  \n",
              "...                     ...                                   ...  \n",
              "288908.0               2.70                     [CEREAL BAGUETTE]  \n",
              "288910.0               1.30                [TRADITIONAL BAGUETTE]  \n",
              "288911.0               5.65  [CAMPAGNE, COUPE, BOULE 200G, COUPE]  \n",
              "288912.0               1.30                [TRADITIONAL BAGUETTE]  \n",
              "288913.0               1.30                [TRADITIONAL BAGUETTE]  \n",
              "\n",
              "[130576 rows x 8 columns]"
            ],
            "text/html": [
              "\n",
              "  <div id=\"df-dcde89f3-63d2-4530-88cc-41f01d2a7fcc\">\n",
              "    <div class=\"colab-df-container\">\n",
              "      <div>\n",
              "<style scoped>\n",
              "    .dataframe tbody tr th:only-of-type {\n",
              "        vertical-align: middle;\n",
              "    }\n",
              "\n",
              "    .dataframe tbody tr th {\n",
              "        vertical-align: top;\n",
              "    }\n",
              "\n",
              "    .dataframe thead th {\n",
              "        text-align: right;\n",
              "    }\n",
              "</style>\n",
              "<table border=\"1\" class=\"dataframe\">\n",
              "  <thead>\n",
              "    <tr style=\"text-align: right;\">\n",
              "      <th></th>\n",
              "      <th>day</th>\n",
              "      <th>month</th>\n",
              "      <th>year</th>\n",
              "      <th>weekday</th>\n",
              "      <th>time_category</th>\n",
              "      <th>Quantity</th>\n",
              "      <th>ticket_price</th>\n",
              "      <th>article</th>\n",
              "    </tr>\n",
              "    <tr>\n",
              "      <th>ticket_number</th>\n",
              "      <th></th>\n",
              "      <th></th>\n",
              "      <th></th>\n",
              "      <th></th>\n",
              "      <th></th>\n",
              "      <th></th>\n",
              "      <th></th>\n",
              "      <th></th>\n",
              "    </tr>\n",
              "  </thead>\n",
              "  <tbody>\n",
              "    <tr>\n",
              "      <th>150040.0</th>\n",
              "      <td>2</td>\n",
              "      <td>1</td>\n",
              "      <td>2021</td>\n",
              "      <td>5</td>\n",
              "      <td>Утро</td>\n",
              "      <td>4.0</td>\n",
              "      <td>4.50</td>\n",
              "      <td>[BAGUETTE, PAIN AU CHOCOLAT]</td>\n",
              "    </tr>\n",
              "    <tr>\n",
              "      <th>150041.0</th>\n",
              "      <td>2</td>\n",
              "      <td>1</td>\n",
              "      <td>2021</td>\n",
              "      <td>5</td>\n",
              "      <td>Утро</td>\n",
              "      <td>3.0</td>\n",
              "      <td>3.55</td>\n",
              "      <td>[PAIN AU CHOCOLAT, PAIN]</td>\n",
              "    </tr>\n",
              "    <tr>\n",
              "      <th>150043.0</th>\n",
              "      <td>2</td>\n",
              "      <td>1</td>\n",
              "      <td>2021</td>\n",
              "      <td>5</td>\n",
              "      <td>Утро</td>\n",
              "      <td>5.0</td>\n",
              "      <td>5.10</td>\n",
              "      <td>[BAGUETTE, CROISSANT]</td>\n",
              "    </tr>\n",
              "    <tr>\n",
              "      <th>150044.0</th>\n",
              "      <td>2</td>\n",
              "      <td>1</td>\n",
              "      <td>2021</td>\n",
              "      <td>5</td>\n",
              "      <td>Утро</td>\n",
              "      <td>1.0</td>\n",
              "      <td>1.05</td>\n",
              "      <td>[BANETTE]</td>\n",
              "    </tr>\n",
              "    <tr>\n",
              "      <th>150045.0</th>\n",
              "      <td>2</td>\n",
              "      <td>1</td>\n",
              "      <td>2021</td>\n",
              "      <td>5</td>\n",
              "      <td>Утро</td>\n",
              "      <td>3.0</td>\n",
              "      <td>3.60</td>\n",
              "      <td>[TRADITIONAL BAGUETTE]</td>\n",
              "    </tr>\n",
              "    <tr>\n",
              "      <th>...</th>\n",
              "      <td>...</td>\n",
              "      <td>...</td>\n",
              "      <td>...</td>\n",
              "      <td>...</td>\n",
              "      <td>...</td>\n",
              "      <td>...</td>\n",
              "      <td>...</td>\n",
              "      <td>...</td>\n",
              "    </tr>\n",
              "    <tr>\n",
              "      <th>288908.0</th>\n",
              "      <td>30</td>\n",
              "      <td>9</td>\n",
              "      <td>2022</td>\n",
              "      <td>4</td>\n",
              "      <td>Вечер</td>\n",
              "      <td>2.0</td>\n",
              "      <td>2.70</td>\n",
              "      <td>[CEREAL BAGUETTE]</td>\n",
              "    </tr>\n",
              "    <tr>\n",
              "      <th>288910.0</th>\n",
              "      <td>30</td>\n",
              "      <td>9</td>\n",
              "      <td>2022</td>\n",
              "      <td>4</td>\n",
              "      <td>Вечер</td>\n",
              "      <td>1.0</td>\n",
              "      <td>1.30</td>\n",
              "      <td>[TRADITIONAL BAGUETTE]</td>\n",
              "    </tr>\n",
              "    <tr>\n",
              "      <th>288911.0</th>\n",
              "      <td>30</td>\n",
              "      <td>9</td>\n",
              "      <td>2022</td>\n",
              "      <td>4</td>\n",
              "      <td>Вечер</td>\n",
              "      <td>6.0</td>\n",
              "      <td>5.65</td>\n",
              "      <td>[CAMPAGNE, COUPE, BOULE 200G, COUPE]</td>\n",
              "    </tr>\n",
              "    <tr>\n",
              "      <th>288912.0</th>\n",
              "      <td>30</td>\n",
              "      <td>9</td>\n",
              "      <td>2022</td>\n",
              "      <td>4</td>\n",
              "      <td>Вечер</td>\n",
              "      <td>1.0</td>\n",
              "      <td>1.30</td>\n",
              "      <td>[TRADITIONAL BAGUETTE]</td>\n",
              "    </tr>\n",
              "    <tr>\n",
              "      <th>288913.0</th>\n",
              "      <td>30</td>\n",
              "      <td>9</td>\n",
              "      <td>2022</td>\n",
              "      <td>4</td>\n",
              "      <td>Вечер</td>\n",
              "      <td>1.0</td>\n",
              "      <td>1.30</td>\n",
              "      <td>[TRADITIONAL BAGUETTE]</td>\n",
              "    </tr>\n",
              "  </tbody>\n",
              "</table>\n",
              "<p>130576 rows × 8 columns</p>\n",
              "</div>\n",
              "      <button class=\"colab-df-convert\" onclick=\"convertToInteractive('df-dcde89f3-63d2-4530-88cc-41f01d2a7fcc')\"\n",
              "              title=\"Convert this dataframe to an interactive table.\"\n",
              "              style=\"display:none;\">\n",
              "        \n",
              "  <svg xmlns=\"http://www.w3.org/2000/svg\" height=\"24px\"viewBox=\"0 0 24 24\"\n",
              "       width=\"24px\">\n",
              "    <path d=\"M0 0h24v24H0V0z\" fill=\"none\"/>\n",
              "    <path d=\"M18.56 5.44l.94 2.06.94-2.06 2.06-.94-2.06-.94-.94-2.06-.94 2.06-2.06.94zm-11 1L8.5 8.5l.94-2.06 2.06-.94-2.06-.94L8.5 2.5l-.94 2.06-2.06.94zm10 10l.94 2.06.94-2.06 2.06-.94-2.06-.94-.94-2.06-.94 2.06-2.06.94z\"/><path d=\"M17.41 7.96l-1.37-1.37c-.4-.4-.92-.59-1.43-.59-.52 0-1.04.2-1.43.59L10.3 9.45l-7.72 7.72c-.78.78-.78 2.05 0 2.83L4 21.41c.39.39.9.59 1.41.59.51 0 1.02-.2 1.41-.59l7.78-7.78 2.81-2.81c.8-.78.8-2.07 0-2.86zM5.41 20L4 18.59l7.72-7.72 1.47 1.35L5.41 20z\"/>\n",
              "  </svg>\n",
              "      </button>\n",
              "      \n",
              "  <style>\n",
              "    .colab-df-container {\n",
              "      display:flex;\n",
              "      flex-wrap:wrap;\n",
              "      gap: 12px;\n",
              "    }\n",
              "\n",
              "    .colab-df-convert {\n",
              "      background-color: #E8F0FE;\n",
              "      border: none;\n",
              "      border-radius: 50%;\n",
              "      cursor: pointer;\n",
              "      display: none;\n",
              "      fill: #1967D2;\n",
              "      height: 32px;\n",
              "      padding: 0 0 0 0;\n",
              "      width: 32px;\n",
              "    }\n",
              "\n",
              "    .colab-df-convert:hover {\n",
              "      background-color: #E2EBFA;\n",
              "      box-shadow: 0px 1px 2px rgba(60, 64, 67, 0.3), 0px 1px 3px 1px rgba(60, 64, 67, 0.15);\n",
              "      fill: #174EA6;\n",
              "    }\n",
              "\n",
              "    [theme=dark] .colab-df-convert {\n",
              "      background-color: #3B4455;\n",
              "      fill: #D2E3FC;\n",
              "    }\n",
              "\n",
              "    [theme=dark] .colab-df-convert:hover {\n",
              "      background-color: #434B5C;\n",
              "      box-shadow: 0px 1px 3px 1px rgba(0, 0, 0, 0.15);\n",
              "      filter: drop-shadow(0px 1px 2px rgba(0, 0, 0, 0.3));\n",
              "      fill: #FFFFFF;\n",
              "    }\n",
              "  </style>\n",
              "\n",
              "      <script>\n",
              "        const buttonEl =\n",
              "          document.querySelector('#df-dcde89f3-63d2-4530-88cc-41f01d2a7fcc button.colab-df-convert');\n",
              "        buttonEl.style.display =\n",
              "          google.colab.kernel.accessAllowed ? 'block' : 'none';\n",
              "\n",
              "        async function convertToInteractive(key) {\n",
              "          const element = document.querySelector('#df-dcde89f3-63d2-4530-88cc-41f01d2a7fcc');\n",
              "          const dataTable =\n",
              "            await google.colab.kernel.invokeFunction('convertToInteractive',\n",
              "                                                     [key], {});\n",
              "          if (!dataTable) return;\n",
              "\n",
              "          const docLinkHtml = 'Like what you see? Visit the ' +\n",
              "            '<a target=\"_blank\" href=https://colab.research.google.com/notebooks/data_table.ipynb>data table notebook</a>'\n",
              "            + ' to learn more about interactive tables.';\n",
              "          element.innerHTML = '';\n",
              "          dataTable['output_type'] = 'display_data';\n",
              "          await google.colab.output.renderOutput(dataTable, element);\n",
              "          const docLink = document.createElement('div');\n",
              "          docLink.innerHTML = docLinkHtml;\n",
              "          element.appendChild(docLink);\n",
              "        }\n",
              "      </script>\n",
              "    </div>\n",
              "  </div>\n",
              "  "
            ]
          },
          "metadata": {},
          "execution_count": 967
        }
      ],
      "source": [
        "df_price_total = df.groupby('ticket_number').agg({\n",
        "    'day': 'first',\n",
        "    'month': 'first',\n",
        "    'year': 'first',\n",
        "    'weekday': 'first',\n",
        "    'time_category': 'first',\n",
        "    'Quantity': 'sum',\n",
        "    'ticket_price': 'sum',\n",
        "    'article': lambda x: list(x)\n",
        "})\n",
        "df_price_total"
      ]
    },
    {
      "cell_type": "markdown",
      "metadata": {
        "id": "KIe29uug7o91"
      },
      "source": [
        "**Корреляция**\n",
        "\n",
        "Посмотрим, существует ли зависимость между днем/месяцем и количеством продукции"
      ]
    },
    {
      "cell_type": "code",
      "execution_count": 968,
      "metadata": {
        "colab": {
          "base_uri": "https://localhost:8080/"
        },
        "id": "di35WOVoECCF",
        "outputId": "14866355-5010-493b-a0f6-fd067420852d"
      },
      "outputs": [
        {
          "output_type": "execute_result",
          "data": {
            "text/plain": [
              "0.019445381784248855"
            ]
          },
          "metadata": {},
          "execution_count": 968
        }
      ],
      "source": [
        "df_price_total['Quantity'].corr(df_price_total['month']) \n",
        "#0,02 - зависимости между количеством товара в чеке и месяцем нет"
      ]
    },
    {
      "cell_type": "code",
      "execution_count": 969,
      "metadata": {
        "colab": {
          "base_uri": "https://localhost:8080/"
        },
        "id": "8IEXsxaYFkJD",
        "outputId": "d318f187-2cee-4a82-a7ee-6f9110887c5f"
      },
      "outputs": [
        {
          "output_type": "execute_result",
          "data": {
            "text/plain": [
              "0.006918068856966193"
            ]
          },
          "metadata": {},
          "execution_count": 969
        }
      ],
      "source": [
        "df_price_total['Quantity'].corr(df_price_total['day'])\n",
        "#0,007 - зависимости между количеством товара в чеке и числом месяца нет"
      ]
    },
    {
      "cell_type": "markdown",
      "metadata": {
        "id": "aYPv8ZJFHgKO"
      },
      "source": [
        "Каких-либо значимых корреляций в датасете не обнаружено"
      ]
    },
    {
      "cell_type": "markdown",
      "metadata": {
        "id": "Edsfs8neHuoG"
      },
      "source": [
        "**Часть 3.** Визуализация данных"
      ]
    },
    {
      "cell_type": "code",
      "execution_count": 970,
      "metadata": {
        "colab": {
          "base_uri": "https://localhost:8080/",
          "height": 263
        },
        "id": "9b5fwrsSO0sN",
        "outputId": "12d3301a-cd50-4913-af14-54c8b055937a"
      },
      "outputs": [
        {
          "output_type": "display_data",
          "data": {
            "text/plain": [
              "<Figure size 432x288 with 1 Axes>"
            ],
            "image/png": "[encoded data removed]"
          },
          "metadata": {}
        }
      ],
      "source": [
        "df_price_total['time_category'].value_counts().plot(kind='pie', autopct='%1.1f%%', title = 'Количество покупок в течение дня')\n",
        "plt.ylabel('')\n",
        "plt.show()"
      ]
    },
    {
      "cell_type": "markdown",
      "metadata": {
        "id": "j3WR_u1DQdID"
      },
      "source": [
        "Подавляющее большинство покупок, совершенных в пекарне, приходятся на утро или день, и лишь 10% покупают что-либо вечером"
      ]
    },
    {
      "cell_type": "code",
      "execution_count": 971,
      "metadata": {
        "colab": {
          "base_uri": "https://localhost:8080/",
          "height": 294
        },
        "id": "9yL_v3DzLaLU",
        "outputId": "5e7df7c6-ac67-48bb-8460-44adce21554b"
      },
      "outputs": [
        {
          "output_type": "display_data",
          "data": {
            "text/plain": [
              "<Figure size 432x288 with 1 Axes>"
            ],
            "image/png": "[encoded data removed]"
          },
          "metadata": {
            "needs_background": "light"
          }
        }
      ],
      "source": [
        "sns.lineplot(data=df_price_total, x=\"month\", y=\"ticket_price\", hue=\"year\")\n",
        "plt.title('Сезонность цены чека')\n",
        "plt.xlabel('Месяц')\n",
        "plt.ylabel('Стоимость чека')\n",
        "plt.show()"
      ]
    },
    {
      "cell_type": "code",
      "execution_count": 972,
      "metadata": {
        "colab": {
          "base_uri": "https://localhost:8080/",
          "height": 280
        },
        "id": "aLtcjzUZcpkd",
        "outputId": "c85ef72a-c79d-48cf-9c64-405cefdd0e28"
      },
      "outputs": [
        {
          "output_type": "display_data",
          "data": {
            "text/plain": [
              "<Figure size 432x288 with 1 Axes>"
            ],
            "image/png": "[encoded data removed]"
          },
          "metadata": {
            "needs_background": "light"
          }
        }
      ],
      "source": [
        "sns.violinplot(x = df_price_total['time_category'], y = df_price_total['month'])\n",
        "plt.xlabel('')\n",
        "plt.ylabel('Месяц')\n",
        "plt.title('Распределение времени суток продаж по месяцам')\n",
        "plt.show()"
      ]
    },
    {
      "cell_type": "markdown",
      "metadata": {
        "id": "zcslJXf4dUPP"
      },
      "source": [
        "Из двух визуализаций можно сделать вывод, что больше всего продаж в пекарне совершается летом (с пиком в августе)"
      ]
    },
    {
      "cell_type": "markdown",
      "metadata": {
        "id": "3bkAY33el8M8"
      },
      "source": [
        "**Часть 4.** Тестирование гипотез\n",
        "\n",
        "H0: в рабочие дни продажи вечером будут выше, чем в выходные"
      ]
    },
    {
      "cell_type": "markdown",
      "metadata": {
        "id": "1y455ADADuDw"
      },
      "source": [
        "Для начала необходимо ввести новую переменную, которая указывала бы на рабочий день недели (1) или выходной (0). Для этого воспользуемся функцией условия"
      ]
    },
    {
      "cell_type": "markdown",
      "source": [],
      "metadata": {
        "id": "AyB5Cu7DNmyF"
      }
    },
    {
      "cell_type": "code",
      "execution_count": 973,
      "metadata": {
        "id": "0eQvXlGsBSLq"
      },
      "outputs": [],
      "source": [
        "def get_weekday_cat(weekday): \n",
        "    if weekday <=4:\n",
        "        return '1'\n",
        "    else:\n",
        "        return '0'\n",
        "df_price_total['day_type']=df_price_total['weekday'].apply(get_weekday_cat)\n",
        "df_price_total['day_type'] = df_price_total['day_type'].astype(int)"
      ]
    },
    {
      "cell_type": "code",
      "source": [
        "df_price_total.head()"
      ],
      "metadata": {
        "colab": {
          "base_uri": "https://localhost:8080/",
          "height": 231
        },
        "id": "8RL58TLAL2Hv",
        "outputId": "d8102089-24c8-4b3f-d91d-190d23a09199"
      },
      "execution_count": 974,
      "outputs": [
        {
          "output_type": "execute_result",
          "data": {
            "text/plain": [
              "               day  month  year  weekday time_category  Quantity  \\\n",
              "ticket_number                                                      \n",
              "150040.0         2      1  2021        5          Утро       4.0   \n",
              "150041.0         2      1  2021        5          Утро       3.0   \n",
              "150043.0         2      1  2021        5          Утро       5.0   \n",
              "150044.0         2      1  2021        5          Утро       1.0   \n",
              "150045.0         2      1  2021        5          Утро       3.0   \n",
              "\n",
              "               ticket_price                       article  day_type  \n",
              "ticket_number                                                        \n",
              "150040.0               4.50  [BAGUETTE, PAIN AU CHOCOLAT]         0  \n",
              "150041.0               3.55      [PAIN AU CHOCOLAT, PAIN]         0  \n",
              "150043.0               5.10         [BAGUETTE, CROISSANT]         0  \n",
              "150044.0               1.05                     [BANETTE]         0  \n",
              "150045.0               3.60        [TRADITIONAL BAGUETTE]         0  "
            ],
            "text/html": [
              "\n",
              "  <div id=\"df-2c974869-ed65-40c9-9136-74d143532243\">\n",
              "    <div class=\"colab-df-container\">\n",
              "      <div>\n",
              "<style scoped>\n",
              "    .dataframe tbody tr th:only-of-type {\n",
              "        vertical-align: middle;\n",
              "    }\n",
              "\n",
              "    .dataframe tbody tr th {\n",
              "        vertical-align: top;\n",
              "    }\n",
              "\n",
              "    .dataframe thead th {\n",
              "        text-align: right;\n",
              "    }\n",
              "</style>\n",
              "<table border=\"1\" class=\"dataframe\">\n",
              "  <thead>\n",
              "    <tr style=\"text-align: right;\">\n",
              "      <th></th>\n",
              "      <th>day</th>\n",
              "      <th>month</th>\n",
              "      <th>year</th>\n",
              "      <th>weekday</th>\n",
              "      <th>time_category</th>\n",
              "      <th>Quantity</th>\n",
              "      <th>ticket_price</th>\n",
              "      <th>article</th>\n",
              "      <th>day_type</th>\n",
              "    </tr>\n",
              "    <tr>\n",
              "      <th>ticket_number</th>\n",
              "      <th></th>\n",
              "      <th></th>\n",
              "      <th></th>\n",
              "      <th></th>\n",
              "      <th></th>\n",
              "      <th></th>\n",
              "      <th></th>\n",
              "      <th></th>\n",
              "      <th></th>\n",
              "    </tr>\n",
              "  </thead>\n",
              "  <tbody>\n",
              "    <tr>\n",
              "      <th>150040.0</th>\n",
              "      <td>2</td>\n",
              "      <td>1</td>\n",
              "      <td>2021</td>\n",
              "      <td>5</td>\n",
              "      <td>Утро</td>\n",
              "      <td>4.0</td>\n",
              "      <td>4.50</td>\n",
              "      <td>[BAGUETTE, PAIN AU CHOCOLAT]</td>\n",
              "      <td>0</td>\n",
              "    </tr>\n",
              "    <tr>\n",
              "      <th>150041.0</th>\n",
              "      <td>2</td>\n",
              "      <td>1</td>\n",
              "      <td>2021</td>\n",
              "      <td>5</td>\n",
              "      <td>Утро</td>\n",
              "      <td>3.0</td>\n",
              "      <td>3.55</td>\n",
              "      <td>[PAIN AU CHOCOLAT, PAIN]</td>\n",
              "      <td>0</td>\n",
              "    </tr>\n",
              "    <tr>\n",
              "      <th>150043.0</th>\n",
              "      <td>2</td>\n",
              "      <td>1</td>\n",
              "      <td>2021</td>\n",
              "      <td>5</td>\n",
              "      <td>Утро</td>\n",
              "      <td>5.0</td>\n",
              "      <td>5.10</td>\n",
              "      <td>[BAGUETTE, CROISSANT]</td>\n",
              "      <td>0</td>\n",
              "    </tr>\n",
              "    <tr>\n",
              "      <th>150044.0</th>\n",
              "      <td>2</td>\n",
              "      <td>1</td>\n",
              "      <td>2021</td>\n",
              "      <td>5</td>\n",
              "      <td>Утро</td>\n",
              "      <td>1.0</td>\n",
              "      <td>1.05</td>\n",
              "      <td>[BANETTE]</td>\n",
              "      <td>0</td>\n",
              "    </tr>\n",
              "    <tr>\n",
              "      <th>150045.0</th>\n",
              "      <td>2</td>\n",
              "      <td>1</td>\n",
              "      <td>2021</td>\n",
              "      <td>5</td>\n",
              "      <td>Утро</td>\n",
              "      <td>3.0</td>\n",
              "      <td>3.60</td>\n",
              "      <td>[TRADITIONAL BAGUETTE]</td>\n",
              "      <td>0</td>\n",
              "    </tr>\n",
              "  </tbody>\n",
              "</table>\n",
              "</div>\n",
              "      <button class=\"colab-df-convert\" onclick=\"convertToInteractive('df-2c974869-ed65-40c9-9136-74d143532243')\"\n",
              "              title=\"Convert this dataframe to an interactive table.\"\n",
              "              style=\"display:none;\">\n",
              "        \n",
              "  <svg xmlns=\"http://www.w3.org/2000/svg\" height=\"24px\"viewBox=\"0 0 24 24\"\n",
              "       width=\"24px\">\n",
              "    <path d=\"M0 0h24v24H0V0z\" fill=\"none\"/>\n",
              "    <path d=\"M18.56 5.44l.94 2.06.94-2.06 2.06-.94-2.06-.94-.94-2.06-.94 2.06-2.06.94zm-11 1L8.5 8.5l.94-2.06 2.06-.94-2.06-.94L8.5 2.5l-.94 2.06-2.06.94zm10 10l.94 2.06.94-2.06 2.06-.94-2.06-.94-.94-2.06-.94 2.06-2.06.94z\"/><path d=\"M17.41 7.96l-1.37-1.37c-.4-.4-.92-.59-1.43-.59-.52 0-1.04.2-1.43.59L10.3 9.45l-7.72 7.72c-.78.78-.78 2.05 0 2.83L4 21.41c.39.39.9.59 1.41.59.51 0 1.02-.2 1.41-.59l7.78-7.78 2.81-2.81c.8-.78.8-2.07 0-2.86zM5.41 20L4 18.59l7.72-7.72 1.47 1.35L5.41 20z\"/>\n",
              "  </svg>\n",
              "      </button>\n",
              "      \n",
              "  <style>\n",
              "    .colab-df-container {\n",
              "      display:flex;\n",
              "      flex-wrap:wrap;\n",
              "      gap: 12px;\n",
              "    }\n",
              "\n",
              "    .colab-df-convert {\n",
              "      background-color: #E8F0FE;\n",
              "      border: none;\n",
              "      border-radius: 50%;\n",
              "      cursor: pointer;\n",
              "      display: none;\n",
              "      fill: #1967D2;\n",
              "      height: 32px;\n",
              "      padding: 0 0 0 0;\n",
              "      width: 32px;\n",
              "    }\n",
              "\n",
              "    .colab-df-convert:hover {\n",
              "      background-color: #E2EBFA;\n",
              "      box-shadow: 0px 1px 2px rgba(60, 64, 67, 0.3), 0px 1px 3px 1px rgba(60, 64, 67, 0.15);\n",
              "      fill: #174EA6;\n",
              "    }\n",
              "\n",
              "    [theme=dark] .colab-df-convert {\n",
              "      background-color: #3B4455;\n",
              "      fill: #D2E3FC;\n",
              "    }\n",
              "\n",
              "    [theme=dark] .colab-df-convert:hover {\n",
              "      background-color: #434B5C;\n",
              "      box-shadow: 0px 1px 3px 1px rgba(0, 0, 0, 0.15);\n",
              "      filter: drop-shadow(0px 1px 2px rgba(0, 0, 0, 0.3));\n",
              "      fill: #FFFFFF;\n",
              "    }\n",
              "  </style>\n",
              "\n",
              "      <script>\n",
              "        const buttonEl =\n",
              "          document.querySelector('#df-2c974869-ed65-40c9-9136-74d143532243 button.colab-df-convert');\n",
              "        buttonEl.style.display =\n",
              "          google.colab.kernel.accessAllowed ? 'block' : 'none';\n",
              "\n",
              "        async function convertToInteractive(key) {\n",
              "          const element = document.querySelector('#df-2c974869-ed65-40c9-9136-74d143532243');\n",
              "          const dataTable =\n",
              "            await google.colab.kernel.invokeFunction('convertToInteractive',\n",
              "                                                     [key], {});\n",
              "          if (!dataTable) return;\n",
              "\n",
              "          const docLinkHtml = 'Like what you see? Visit the ' +\n",
              "            '<a target=\"_blank\" href=https://colab.research.google.com/notebooks/data_table.ipynb>data table notebook</a>'\n",
              "            + ' to learn more about interactive tables.';\n",
              "          element.innerHTML = '';\n",
              "          dataTable['output_type'] = 'display_data';\n",
              "          await google.colab.output.renderOutput(dataTable, element);\n",
              "          const docLink = document.createElement('div');\n",
              "          docLink.innerHTML = docLinkHtml;\n",
              "          element.appendChild(docLink);\n",
              "        }\n",
              "      </script>\n",
              "    </div>\n",
              "  </div>\n",
              "  "
            ]
          },
          "metadata": {},
          "execution_count": 974
        }
      ]
    },
    {
      "cell_type": "code",
      "execution_count": 975,
      "metadata": {
        "colab": {
          "base_uri": "https://localhost:8080/",
          "height": 140
        },
        "id": "yF85-aCxKLC1",
        "outputId": "5f353b35-c8b0-4490-8530-66d5388daa3d"
      },
      "outputs": [
        {
          "output_type": "execute_result",
          "data": {
            "text/plain": [
              "time_category  Вечер   День   Утро\n",
              "day_type                          \n",
              "0               2182  19923  23030\n",
              "1              11314  39068  35059"
            ],
            "text/html": [
              "\n",
              "  <div id=\"df-e7f4cd33-fbfa-4b82-ae8b-7e1e6d6c9b99\">\n",
              "    <div class=\"colab-df-container\">\n",
              "      <div>\n",
              "<style scoped>\n",
              "    .dataframe tbody tr th:only-of-type {\n",
              "        vertical-align: middle;\n",
              "    }\n",
              "\n",
              "    .dataframe tbody tr th {\n",
              "        vertical-align: top;\n",
              "    }\n",
              "\n",
              "    .dataframe thead th {\n",
              "        text-align: right;\n",
              "    }\n",
              "</style>\n",
              "<table border=\"1\" class=\"dataframe\">\n",
              "  <thead>\n",
              "    <tr style=\"text-align: right;\">\n",
              "      <th>time_category</th>\n",
              "      <th>Вечер</th>\n",
              "      <th>День</th>\n",
              "      <th>Утро</th>\n",
              "    </tr>\n",
              "    <tr>\n",
              "      <th>day_type</th>\n",
              "      <th></th>\n",
              "      <th></th>\n",
              "      <th></th>\n",
              "    </tr>\n",
              "  </thead>\n",
              "  <tbody>\n",
              "    <tr>\n",
              "      <th>0</th>\n",
              "      <td>2182</td>\n",
              "      <td>19923</td>\n",
              "      <td>23030</td>\n",
              "    </tr>\n",
              "    <tr>\n",
              "      <th>1</th>\n",
              "      <td>11314</td>\n",
              "      <td>39068</td>\n",
              "      <td>35059</td>\n",
              "    </tr>\n",
              "  </tbody>\n",
              "</table>\n",
              "</div>\n",
              "      <button class=\"colab-df-convert\" onclick=\"convertToInteractive('df-e7f4cd33-fbfa-4b82-ae8b-7e1e6d6c9b99')\"\n",
              "              title=\"Convert this dataframe to an interactive table.\"\n",
              "              style=\"display:none;\">\n",
              "        \n",
              "  <svg xmlns=\"http://www.w3.org/2000/svg\" height=\"24px\"viewBox=\"0 0 24 24\"\n",
              "       width=\"24px\">\n",
              "    <path d=\"M0 0h24v24H0V0z\" fill=\"none\"/>\n",
              "    <path d=\"M18.56 5.44l.94 2.06.94-2.06 2.06-.94-2.06-.94-.94-2.06-.94 2.06-2.06.94zm-11 1L8.5 8.5l.94-2.06 2.06-.94-2.06-.94L8.5 2.5l-.94 2.06-2.06.94zm10 10l.94 2.06.94-2.06 2.06-.94-2.06-.94-.94-2.06-.94 2.06-2.06.94z\"/><path d=\"M17.41 7.96l-1.37-1.37c-.4-.4-.92-.59-1.43-.59-.52 0-1.04.2-1.43.59L10.3 9.45l-7.72 7.72c-.78.78-.78 2.05 0 2.83L4 21.41c.39.39.9.59 1.41.59.51 0 1.02-.2 1.41-.59l7.78-7.78 2.81-2.81c.8-.78.8-2.07 0-2.86zM5.41 20L4 18.59l7.72-7.72 1.47 1.35L5.41 20z\"/>\n",
              "  </svg>\n",
              "      </button>\n",
              "      \n",
              "  <style>\n",
              "    .colab-df-container {\n",
              "      display:flex;\n",
              "      flex-wrap:wrap;\n",
              "      gap: 12px;\n",
              "    }\n",
              "\n",
              "    .colab-df-convert {\n",
              "      background-color: #E8F0FE;\n",
              "      border: none;\n",
              "      border-radius: 50%;\n",
              "      cursor: pointer;\n",
              "      display: none;\n",
              "      fill: #1967D2;\n",
              "      height: 32px;\n",
              "      padding: 0 0 0 0;\n",
              "      width: 32px;\n",
              "    }\n",
              "\n",
              "    .colab-df-convert:hover {\n",
              "      background-color: #E2EBFA;\n",
              "      box-shadow: 0px 1px 2px rgba(60, 64, 67, 0.3), 0px 1px 3px 1px rgba(60, 64, 67, 0.15);\n",
              "      fill: #174EA6;\n",
              "    }\n",
              "\n",
              "    [theme=dark] .colab-df-convert {\n",
              "      background-color: #3B4455;\n",
              "      fill: #D2E3FC;\n",
              "    }\n",
              "\n",
              "    [theme=dark] .colab-df-convert:hover {\n",
              "      background-color: #434B5C;\n",
              "      box-shadow: 0px 1px 3px 1px rgba(0, 0, 0, 0.15);\n",
              "      filter: drop-shadow(0px 1px 2px rgba(0, 0, 0, 0.3));\n",
              "      fill: #FFFFFF;\n",
              "    }\n",
              "  </style>\n",
              "\n",
              "      <script>\n",
              "        const buttonEl =\n",
              "          document.querySelector('#df-e7f4cd33-fbfa-4b82-ae8b-7e1e6d6c9b99 button.colab-df-convert');\n",
              "        buttonEl.style.display =\n",
              "          google.colab.kernel.accessAllowed ? 'block' : 'none';\n",
              "\n",
              "        async function convertToInteractive(key) {\n",
              "          const element = document.querySelector('#df-e7f4cd33-fbfa-4b82-ae8b-7e1e6d6c9b99');\n",
              "          const dataTable =\n",
              "            await google.colab.kernel.invokeFunction('convertToInteractive',\n",
              "                                                     [key], {});\n",
              "          if (!dataTable) return;\n",
              "\n",
              "          const docLinkHtml = 'Like what you see? Visit the ' +\n",
              "            '<a target=\"_blank\" href=https://colab.research.google.com/notebooks/data_table.ipynb>data table notebook</a>'\n",
              "            + ' to learn more about interactive tables.';\n",
              "          element.innerHTML = '';\n",
              "          dataTable['output_type'] = 'display_data';\n",
              "          await google.colab.output.renderOutput(dataTable, element);\n",
              "          const docLink = document.createElement('div');\n",
              "          docLink.innerHTML = docLinkHtml;\n",
              "          element.appendChild(docLink);\n",
              "        }\n",
              "      </script>\n",
              "    </div>\n",
              "  </div>\n",
              "  "
            ]
          },
          "metadata": {},
          "execution_count": 975
        }
      ],
      "source": [
        "ct_o = df_price_total.groupby ('day_type')['time_category'].value_counts().unstack()\n",
        "ct_o"
      ]
    },
    {
      "cell_type": "code",
      "source": [
        "alpha = 0.01\n",
        "dof = (2-1) * (3-1)\n",
        "dof"
      ],
      "metadata": {
        "colab": {
          "base_uri": "https://localhost:8080/"
        },
        "id": "MOJQfxy9Kvbg",
        "outputId": "5253fa6c-4ce0-4887-95c1-4bc59cdc200d"
      },
      "execution_count": 976,
      "outputs": [
        {
          "output_type": "execute_result",
          "data": {
            "text/plain": [
              "2"
            ]
          },
          "metadata": {},
          "execution_count": 976
        }
      ]
    },
    {
      "cell_type": "code",
      "source": [
        "#при степени свободы 2 и критической точке распределения 0,01 получаем критическое значение из таблицы Пирсона:\n",
        "critical_value = 9,21"
      ],
      "metadata": {
        "id": "63ur_QtEK4J8"
      },
      "execution_count": 977,
      "outputs": []
    },
    {
      "cell_type": "code",
      "source": [
        "scipy.stats.chi2_contingency(ct_o, correction = False)"
      ],
      "metadata": {
        "colab": {
          "base_uri": "https://localhost:8080/"
        },
        "id": "Xx9Lr-L9PZd9",
        "outputId": "0177efa5-b0bf-431d-b544-02a893ba346d"
      },
      "execution_count": 978,
      "outputs": [
        {
          "output_type": "execute_result",
          "data": {
            "text/plain": [
              "(2698.9813407771626,\n",
              " 0.0,\n",
              " 2,\n",
              " array([[ 4665.03767921, 20390.87416524, 20079.08815556],\n",
              "        [ 8830.96232079, 38600.12583476, 38009.91184444]]))"
            ]
          },
          "metadata": {},
          "execution_count": 978
        }
      ]
    },
    {
      "cell_type": "markdown",
      "source": [
        "**Вывод:** Значение 2 говорит о том, что зависимость между покупкой вечером в будни и в выходные есть"
      ],
      "metadata": {
        "id": "Gn2OUAAqSUiI"
      }
    },
    {
      "cell_type": "markdown",
      "metadata": {
        "id": "1LTCyNSCtbKI"
      },
      "source": [
        "**Часть 5.** Линейная регрессия "
      ]
    },
    {
      "cell_type": "code",
      "execution_count": 979,
      "metadata": {
        "colab": {
          "base_uri": "https://localhost:8080/"
        },
        "id": "TKbzij2qwWLo",
        "outputId": "eba8029d-651f-4c2f-fb60-80b86a8efc55"
      },
      "outputs": [
        {
          "output_type": "stream",
          "name": "stdout",
          "text": [
            "<class 'pandas.core.frame.DataFrame'>\n",
            "Float64Index: 130576 entries, 150040.0 to 288913.0\n",
            "Data columns (total 9 columns):\n",
            " #   Column         Non-Null Count   Dtype  \n",
            "---  ------         --------------   -----  \n",
            " 0   day            130576 non-null  int64  \n",
            " 1   month          130576 non-null  int64  \n",
            " 2   year           130576 non-null  int64  \n",
            " 3   weekday        130576 non-null  int64  \n",
            " 4   time_category  130576 non-null  object \n",
            " 5   Quantity       130576 non-null  float64\n",
            " 6   ticket_price   130576 non-null  float64\n",
            " 7   article        130576 non-null  object \n",
            " 8   day_type       130576 non-null  int64  \n",
            "dtypes: float64(2), int64(5), object(2)\n",
            "memory usage: 14.0+ MB\n"
          ]
        }
      ],
      "source": [
        "df_price_total.info()"
      ]
    },
    {
      "cell_type": "code",
      "execution_count": 980,
      "metadata": {
        "colab": {
          "base_uri": "https://localhost:8080/",
          "height": 231
        },
        "id": "6fPQeFwFwR8T",
        "outputId": "15b6da5e-2191-4156-ff36-e7a2733e1bf6"
      },
      "outputs": [
        {
          "output_type": "execute_result",
          "data": {
            "text/plain": [
              "     Quantity  ticket_price  unit_price\n",
              "day                                    \n",
              "1    2.270563      13536.40    1.673616\n",
              "2    2.229142      15414.45    1.713645\n",
              "3    2.264049      15043.83    1.707015\n",
              "4    2.204616      14917.45    1.677594\n",
              "5    2.269513      16053.10    1.694674"
            ],
            "text/html": [
              "\n",
              "  <div id=\"df-7a87b6fb-b025-400f-9a8a-d78140a66e56\">\n",
              "    <div class=\"colab-df-container\">\n",
              "      <div>\n",
              "<style scoped>\n",
              "    .dataframe tbody tr th:only-of-type {\n",
              "        vertical-align: middle;\n",
              "    }\n",
              "\n",
              "    .dataframe tbody tr th {\n",
              "        vertical-align: top;\n",
              "    }\n",
              "\n",
              "    .dataframe thead th {\n",
              "        text-align: right;\n",
              "    }\n",
              "</style>\n",
              "<table border=\"1\" class=\"dataframe\">\n",
              "  <thead>\n",
              "    <tr style=\"text-align: right;\">\n",
              "      <th></th>\n",
              "      <th>Quantity</th>\n",
              "      <th>ticket_price</th>\n",
              "      <th>unit_price</th>\n",
              "    </tr>\n",
              "    <tr>\n",
              "      <th>day</th>\n",
              "      <th></th>\n",
              "      <th></th>\n",
              "      <th></th>\n",
              "    </tr>\n",
              "  </thead>\n",
              "  <tbody>\n",
              "    <tr>\n",
              "      <th>1</th>\n",
              "      <td>2.270563</td>\n",
              "      <td>13536.40</td>\n",
              "      <td>1.673616</td>\n",
              "    </tr>\n",
              "    <tr>\n",
              "      <th>2</th>\n",
              "      <td>2.229142</td>\n",
              "      <td>15414.45</td>\n",
              "      <td>1.713645</td>\n",
              "    </tr>\n",
              "    <tr>\n",
              "      <th>3</th>\n",
              "      <td>2.264049</td>\n",
              "      <td>15043.83</td>\n",
              "      <td>1.707015</td>\n",
              "    </tr>\n",
              "    <tr>\n",
              "      <th>4</th>\n",
              "      <td>2.204616</td>\n",
              "      <td>14917.45</td>\n",
              "      <td>1.677594</td>\n",
              "    </tr>\n",
              "    <tr>\n",
              "      <th>5</th>\n",
              "      <td>2.269513</td>\n",
              "      <td>16053.10</td>\n",
              "      <td>1.694674</td>\n",
              "    </tr>\n",
              "  </tbody>\n",
              "</table>\n",
              "</div>\n",
              "      <button class=\"colab-df-convert\" onclick=\"convertToInteractive('df-7a87b6fb-b025-400f-9a8a-d78140a66e56')\"\n",
              "              title=\"Convert this dataframe to an interactive table.\"\n",
              "              style=\"display:none;\">\n",
              "        \n",
              "  <svg xmlns=\"http://www.w3.org/2000/svg\" height=\"24px\"viewBox=\"0 0 24 24\"\n",
              "       width=\"24px\">\n",
              "    <path d=\"M0 0h24v24H0V0z\" fill=\"none\"/>\n",
              "    <path d=\"M18.56 5.44l.94 2.06.94-2.06 2.06-.94-2.06-.94-.94-2.06-.94 2.06-2.06.94zm-11 1L8.5 8.5l.94-2.06 2.06-.94-2.06-.94L8.5 2.5l-.94 2.06-2.06.94zm10 10l.94 2.06.94-2.06 2.06-.94-2.06-.94-.94-2.06-.94 2.06-2.06.94z\"/><path d=\"M17.41 7.96l-1.37-1.37c-.4-.4-.92-.59-1.43-.59-.52 0-1.04.2-1.43.59L10.3 9.45l-7.72 7.72c-.78.78-.78 2.05 0 2.83L4 21.41c.39.39.9.59 1.41.59.51 0 1.02-.2 1.41-.59l7.78-7.78 2.81-2.81c.8-.78.8-2.07 0-2.86zM5.41 20L4 18.59l7.72-7.72 1.47 1.35L5.41 20z\"/>\n",
              "  </svg>\n",
              "      </button>\n",
              "      \n",
              "  <style>\n",
              "    .colab-df-container {\n",
              "      display:flex;\n",
              "      flex-wrap:wrap;\n",
              "      gap: 12px;\n",
              "    }\n",
              "\n",
              "    .colab-df-convert {\n",
              "      background-color: #E8F0FE;\n",
              "      border: none;\n",
              "      border-radius: 50%;\n",
              "      cursor: pointer;\n",
              "      display: none;\n",
              "      fill: #1967D2;\n",
              "      height: 32px;\n",
              "      padding: 0 0 0 0;\n",
              "      width: 32px;\n",
              "    }\n",
              "\n",
              "    .colab-df-convert:hover {\n",
              "      background-color: #E2EBFA;\n",
              "      box-shadow: 0px 1px 2px rgba(60, 64, 67, 0.3), 0px 1px 3px 1px rgba(60, 64, 67, 0.15);\n",
              "      fill: #174EA6;\n",
              "    }\n",
              "\n",
              "    [theme=dark] .colab-df-convert {\n",
              "      background-color: #3B4455;\n",
              "      fill: #D2E3FC;\n",
              "    }\n",
              "\n",
              "    [theme=dark] .colab-df-convert:hover {\n",
              "      background-color: #434B5C;\n",
              "      box-shadow: 0px 1px 3px 1px rgba(0, 0, 0, 0.15);\n",
              "      filter: drop-shadow(0px 1px 2px rgba(0, 0, 0, 0.3));\n",
              "      fill: #FFFFFF;\n",
              "    }\n",
              "  </style>\n",
              "\n",
              "      <script>\n",
              "        const buttonEl =\n",
              "          document.querySelector('#df-7a87b6fb-b025-400f-9a8a-d78140a66e56 button.colab-df-convert');\n",
              "        buttonEl.style.display =\n",
              "          google.colab.kernel.accessAllowed ? 'block' : 'none';\n",
              "\n",
              "        async function convertToInteractive(key) {\n",
              "          const element = document.querySelector('#df-7a87b6fb-b025-400f-9a8a-d78140a66e56');\n",
              "          const dataTable =\n",
              "            await google.colab.kernel.invokeFunction('convertToInteractive',\n",
              "                                                     [key], {});\n",
              "          if (!dataTable) return;\n",
              "\n",
              "          const docLinkHtml = 'Like what you see? Visit the ' +\n",
              "            '<a target=\"_blank\" href=https://colab.research.google.com/notebooks/data_table.ipynb>data table notebook</a>'\n",
              "            + ' to learn more about interactive tables.';\n",
              "          element.innerHTML = '';\n",
              "          dataTable['output_type'] = 'display_data';\n",
              "          await google.colab.output.renderOutput(dataTable, element);\n",
              "          const docLink = document.createElement('div');\n",
              "          docLink.innerHTML = docLinkHtml;\n",
              "          element.appendChild(docLink);\n",
              "        }\n",
              "      </script>\n",
              "    </div>\n",
              "  </div>\n",
              "  "
            ]
          },
          "metadata": {},
          "execution_count": 980
        }
      ],
      "source": [
        "quantity_mean = df_price_total.groupby(df_price_total['day'])['Quantity'].mean()\n",
        "ticket_price_sum = df_price_total.groupby(df_price_total['day'])['ticket_price'].sum()\n",
        "unit_price_mean = df.groupby(df['day'])['unit_price'].mean()\n",
        "\n",
        "lin_data = pd.concat([quantity_mean,ticket_price_sum, unit_price_mean], axis = 1)\n",
        "lin_data.head()"
      ]
    },
    {
      "cell_type": "markdown",
      "metadata": {
        "id": "d4WUxOUn1ZWB"
      },
      "source": [
        "Делаем проверку данных с помощью графиков распределения и карты корреляций"
      ]
    },
    {
      "cell_type": "code",
      "execution_count": 981,
      "metadata": {
        "colab": {
          "base_uri": "https://localhost:8080/",
          "height": 549
        },
        "id": "GYCPakPef9-I",
        "outputId": "5394afb9-2613-46d1-d3b1-9b099c90f177"
      },
      "outputs": [
        {
          "output_type": "display_data",
          "data": {
            "text/plain": [
              "<Figure size 540x540 with 12 Axes>"
            ],
            "image/png": "[encoded data removed]"
          },
          "metadata": {
            "needs_background": "light"
          }
        }
      ],
      "source": [
        "sns.pairplot(lin_data)\n",
        "plt.show()"
      ]
    },
    {
      "cell_type": "code",
      "execution_count": 982,
      "metadata": {
        "colab": {
          "base_uri": "https://localhost:8080/",
          "height": 285
        },
        "id": "hVGNZ8RFsEGT",
        "outputId": "3bfd7c71-b636-44ac-b8fc-64c8260a04b2"
      },
      "outputs": [
        {
          "output_type": "execute_result",
          "data": {
            "text/plain": [
              "<matplotlib.axes._subplots.AxesSubplot at 0x7f13e99a1160>"
            ]
          },
          "metadata": {},
          "execution_count": 982
        },
        {
          "output_type": "display_data",
          "data": {
            "text/plain": [
              "<Figure size 432x288 with 2 Axes>"
            ],
            "image/png": "[encoded data removed]"
          },
          "metadata": {
            "needs_background": "light"
          }
        }
      ],
      "source": [
        "plt.figure()\n",
        "sns.heatmap(lin_data.corr(), annot = True, cmap='RdYlGn', vmax = 1, vmin = -1)"
      ]
    },
    {
      "cell_type": "code",
      "execution_count": 983,
      "metadata": {
        "colab": {
          "base_uri": "https://localhost:8080/"
        },
        "id": "Bn2LgID15j2S",
        "outputId": "533966d3-0a75-40eb-c68e-b00c147cf28d"
      },
      "outputs": [
        {
          "output_type": "execute_result",
          "data": {
            "text/plain": [
              "LinregressResult(slope=0.32221233895705886, intercept=1.7299479202129016, rvalue=0.1934653309618788, pvalue=0.2970424080393847, stderr=0.3034285501317468, intercept_stderr=0.5104088468593092)"
            ]
          },
          "metadata": {},
          "execution_count": 983
        }
      ],
      "source": [
        "X = lin_data['unit_price']\n",
        "y = lin_data['Quantity']\n",
        "\n",
        "res = scipy.stats.linregress(X, y)\n",
        "res"
      ]
    },
    {
      "cell_type": "code",
      "execution_count": 984,
      "metadata": {
        "colab": {
          "base_uri": "https://localhost:8080/"
        },
        "id": "NU38Zy3m54zg",
        "outputId": "c3aec96c-5d52-4c5a-8a86-d915521205d7"
      },
      "outputs": [
        {
          "output_type": "execute_result",
          "data": {
            "text/plain": [
              "0.0374288342841893"
            ]
          },
          "metadata": {},
          "execution_count": 984
        }
      ],
      "source": [
        "r_sq = res.rvalue ** 2\n",
        "r_sq\n",
        "#коэффициент детерминации = 0,04, таким образом мы видим, что переменные практически не взаимосвязаны друг с другом"
      ]
    },
    {
      "cell_type": "code",
      "execution_count": 985,
      "metadata": {
        "colab": {
          "base_uri": "https://localhost:8080/",
          "height": 264
        },
        "id": "glf10mpR73at",
        "outputId": "134d3457-7a50-44ba-8ec4-8735d445228e"
      },
      "outputs": [
        {
          "output_type": "display_data",
          "data": {
            "text/plain": [
              "<Figure size 432x288 with 1 Axes>"
            ],
            "image/png": "[encoded data removed]"
          },
          "metadata": {
            "needs_background": "light"
          }
        }
      ],
      "source": [
        "plt.scatter(X, y, label = 'оригинальные данные')\n",
        "plt.plot(X, res.intercept + res.slope * X, 'r', label = 'линия регрессии')\n",
        "plt.legend()\n",
        "plt.show()"
      ]
    },
    {
      "cell_type": "markdown",
      "metadata": {
        "id": "3k3xReOh-KBN"
      },
      "source": [
        "**Вывод:** Таким образом, линейная регрессия показала, что цена на единицу товара не влияет на общее количество товаров в чеке"
      ]
    }
  ],
  "metadata": {
    "colab": {
      "provenance": []
    },
    "kernelspec": {
      "display_name": "Python 3",
      "name": "python3"
    },
    "language_info": {
      "name": "python"
    }
  },
  "nbformat": 4,
  "nbformat_minor": 0
}